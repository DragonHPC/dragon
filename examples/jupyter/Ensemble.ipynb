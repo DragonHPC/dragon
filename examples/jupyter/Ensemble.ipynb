{
 "cells": [
  {
   "cell_type": "code",
   "execution_count": 1,
   "id": "447cdd4f",
   "metadata": {},
   "outputs": [],
   "source": [
    "import dragon\n",
    "import multiprocessing as mp\n",
    "import numpy as np\n",
    "import scipy.signal\n",
    "import imageproc as ip\n",
    "import time"
   ]
  },
  {
   "cell_type": "code",
   "execution_count": 2,
   "id": "cd5d376c",
   "metadata": {},
   "outputs": [],
   "source": [
    "mp.set_start_method('dragon')"
   ]
  },
  {
   "cell_type": "markdown",
   "id": "c1a8257e",
   "metadata": {},
   "source": [
    "## The Hello Function"
   ]
  },
  {
   "cell_type": "code",
   "execution_count": 3,
   "id": "87b0f116",
   "metadata": {},
   "outputs": [],
   "source": [
    "#def hello(arg=None):\n",
    "#    print(f'Hello DRAGON from {socket.gethostname()} with {mp.cpu_count()} cores!!', flush=True)"
   ]
  },
  {
   "cell_type": "code",
   "execution_count": 4,
   "id": "918a8e88",
   "metadata": {},
   "outputs": [],
   "source": [
    "num_nodes = 4"
   ]
  },
  {
   "cell_type": "code",
   "execution_count": 5,
   "id": "ef69da0e",
   "metadata": {},
   "outputs": [],
   "source": [
    "pool = mp.Pool(num_nodes)"
   ]
  },
  {
   "cell_type": "code",
   "execution_count": 6,
   "id": "7f1a26ea",
   "metadata": {},
   "outputs": [
    {
     "name": "stdout",
     "output_type": "stream",
     "text": [
      "Hello DRAGON from pinoak0003 with 128 cores!!\n",
      "Hello DRAGON from pinoak0005 with 128 cores!!\n",
      "Hello DRAGON from pinoak0006 with 128 cores!!\n",
      "Hello DRAGON from pinoak0004 with 128 cores!!\n"
     ]
    }
   ],
   "source": [
    "res = pool.map(ip.hello, range(4))"
   ]
  },
  {
   "cell_type": "code",
   "execution_count": 7,
   "id": "8e0f83f3",
   "metadata": {},
   "outputs": [],
   "source": [
    "def mk_images(image_dimension, total_memory):\n",
    "    images = []\n",
    "    test_image = np.zeros((image_dimension, image_dimension))\n",
    "    number_of_images = int(float(total_memory) / float(test_image.size))\n",
    "    for j in range(number_of_images):\n",
    "        images.append(np.zeros((image_dimension, image_dimension)))\n",
    "    return images"
   ]
  },
  {
   "cell_type": "markdown",
   "id": "e79796c8",
   "metadata": {},
   "source": [
    "## The Function f"
   ]
  },
  {
   "cell_type": "markdown",
   "id": "efc65d31",
   "metadata": {},
   "source": [
    "The function f must be defined in a module because it is the target \n",
    "function to be called from multiprocessing's pool.map. It is a requirement\n",
    "of multiprocessing that target functions be defined in a module that can \n",
    "be imported by multiprocessing as part of its setup to call the function."
   ]
  },
  {
   "cell_type": "code",
   "execution_count": 8,
   "id": "dd71efb6",
   "metadata": {},
   "outputs": [],
   "source": [
    "#def f(args):\n",
    "#    image, random_filter = args\n",
    "#    # Do some image processing.\n",
    "#    return scipy.signal.convolve2d(image, random_filter)[::5, ::5]"
   ]
  },
  {
   "cell_type": "code",
   "execution_count": 9,
   "id": "46266bc0",
   "metadata": {},
   "outputs": [],
   "source": [
    "four_gb = 4 * 1024 ** 3"
   ]
  },
  {
   "cell_type": "code",
   "execution_count": 11,
   "id": "cb5f2aaf",
   "metadata": {},
   "outputs": [],
   "source": [
    "images = mk_images(256, four_gb)"
   ]
  },
  {
   "cell_type": "code",
   "execution_count": 12,
   "id": "efaed19b",
   "metadata": {},
   "outputs": [],
   "source": [
    "filters = [np.random.normal(size=(4, 4)) for _ in range(len(images))]"
   ]
  },
  {
   "cell_type": "code",
   "execution_count": 18,
   "id": "f9f13327",
   "metadata": {},
   "outputs": [],
   "source": [
    "num_cpus = 256"
   ]
  },
  {
   "cell_type": "code",
   "execution_count": 19,
   "id": "ad8ddf1a",
   "metadata": {},
   "outputs": [],
   "source": [
    "pool = mp.Pool(num_cpus)"
   ]
  },
  {
   "cell_type": "code",
   "execution_count": 20,
   "id": "36d1e7fd",
   "metadata": {},
   "outputs": [],
   "source": [
    "start = time.perf_counter()\n",
    "res = pool.map(ip.f, zip(images, filters))\n",
    "finish = time.perf_counter()"
   ]
  },
  {
   "cell_type": "code",
   "execution_count": 21,
   "id": "7e655b70",
   "metadata": {},
   "outputs": [
    {
     "name": "stdout",
     "output_type": "stream",
     "text": [
      "The map function took 15.509328162064776 seconds to complete.\n"
     ]
    }
   ],
   "source": [
    "elapsed = finish - start\n",
    "print(f'The map function took {elapsed} seconds to complete.')"
   ]
  },
  {
   "cell_type": "code",
   "execution_count": 17,
   "id": "608ce04b",
   "metadata": {},
   "outputs": [
    {
     "data": {
      "text/plain": [
       "23.697247438016348"
      ]
     },
     "execution_count": 17,
     "metadata": {},
     "output_type": "execute_result"
    }
   ],
   "source": [
    "elapsed"
   ]
  },
  {
   "cell_type": "code",
   "execution_count": null,
   "id": "b8ce4aed",
   "metadata": {},
   "outputs": [],
   "source": []
  }
 ],
 "metadata": {
  "kernelspec": {
   "display_name": "Python 3 (ipykernel)",
   "language": "python",
   "name": "python3"
  },
  "language_info": {
   "codemirror_mode": {
    "name": "ipython",
    "version": 3
   },
   "file_extension": ".py",
   "mimetype": "text/x-python",
   "name": "python",
   "nbconvert_exporter": "python",
   "pygments_lexer": "ipython3",
   "version": "3.9.13"
  }
 },
 "nbformat": 4,
 "nbformat_minor": 5
}
