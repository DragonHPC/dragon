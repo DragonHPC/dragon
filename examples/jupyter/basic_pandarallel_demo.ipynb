{
 "cells": [
  {
   "attachments": {},
   "cell_type": "markdown",
   "metadata": {},
   "source": [
    "# `pandarallel` with Controlled Number of Progress Bars\n",
    "\n",
    "Up until at least version 1.6.4 of `pandarallel`, it displayed 1 progress bar from every 1 worker process.  With a sufficiently large number of workers, this becomes overwhelming.\n",
    "\n",
    "This notebook demos a modification to `pandarallel` which exposes control over how many progress bars should be displayed and maps each worker process to one and only one of those progress bars.  In a multi-node `dragon` execution configuration (which is _not_ demonstrated here), some nodes may be slower/faster than others and it may be helpful to see the relative progress/speed of one cluster's nodes versus others -- this motivates showing more than just a single progress bar representing all workers."
   ]
  },
  {
   "cell_type": "code",
   "execution_count": 1,
   "metadata": {},
   "outputs": [
    {
     "name": "stdout",
     "output_type": "stream",
     "text": [
      "Looking in indexes: https://pypi.org/simple, https://pypi.ngc.nvidia.com\n",
      "Requirement already satisfied: pandarallel in /cray/css/users/ghorakav/dragon_31032022/hpc-pe-dragon-dragon/_env/lib/python3.9/site-packages (1.6.5)\n",
      "Requirement already satisfied: dill>=0.3.1 in /cray/css/users/ghorakav/dragon_31032022/hpc-pe-dragon-dragon/_env/lib/python3.9/site-packages (from pandarallel) (0.3.7)\n",
      "Requirement already satisfied: pandas>=1 in /cray/css/users/ghorakav/dragon_31032022/hpc-pe-dragon-dragon/_env/lib/python3.9/site-packages (from pandarallel) (2.1.1)\n",
      "Requirement already satisfied: psutil in /cray/css/users/ghorakav/dragon_31032022/hpc-pe-dragon-dragon/_env/lib/python3.9/site-packages (from pandarallel) (5.9.5)\n",
      "Requirement already satisfied: numpy>=1.22.4 in /cray/css/users/ghorakav/dragon_31032022/hpc-pe-dragon-dragon/_env/lib/python3.9/site-packages (from pandas>=1->pandarallel) (1.23.5)\n",
      "Requirement already satisfied: python-dateutil>=2.8.2 in /cray/css/users/ghorakav/dragon_31032022/hpc-pe-dragon-dragon/_env/lib/python3.9/site-packages (from pandas>=1->pandarallel) (2.8.2)\n",
      "Requirement already satisfied: pytz>=2020.1 in /cray/css/users/ghorakav/dragon_31032022/hpc-pe-dragon-dragon/_env/lib/python3.9/site-packages (from pandas>=1->pandarallel) (2023.3.post1)\n",
      "Requirement already satisfied: tzdata>=2022.1 in /cray/css/users/ghorakav/dragon_31032022/hpc-pe-dragon-dragon/_env/lib/python3.9/site-packages (from pandas>=1->pandarallel) (2023.3)\n",
      "Requirement already satisfied: six>=1.5 in /cray/css/users/ghorakav/dragon_31032022/hpc-pe-dragon-dragon/_env/lib/python3.9/site-packages (from python-dateutil>=2.8.2->pandas>=1->pandarallel) (1.16.0)\n"
     ]
    }
   ],
   "source": [
    "!pip install pandarallel"
   ]
  },
  {
   "cell_type": "code",
   "execution_count": 2,
   "metadata": {},
   "outputs": [
    {
     "data": {
      "text/plain": [
       "'1.6.5'"
      ]
     },
     "execution_count": 2,
     "metadata": {},
     "output_type": "execute_result"
    }
   ],
   "source": [
    "import dragon\n",
    "import multiprocessing\n",
    "\n",
    "import cloudpickle\n",
    "\n",
    "import numpy as np\n",
    "import pandas as pd\n",
    "import time\n",
    "\n",
    "import pandarallel; pandarallel.__version__"
   ]
  },
  {
   "cell_type": "code",
   "execution_count": 3,
   "metadata": {},
   "outputs": [
    {
     "name": "stdout",
     "output_type": "stream",
     "text": [
      "INFO: Pandarallel will run on 128 workers.\n",
      "INFO: Pandarallel will use Memory file system to transfer data between the main process and workers.\n"
     ]
    }
   ],
   "source": [
    "multiprocessing.set_start_method(\"dragon\")\n",
    "pandarallel.core.dill = cloudpickle\n",
    "ctx = multiprocessing.get_context(\"dragon\")\n",
    "ctx.Manager = type(\"PMgr\", (), {\"Queue\": ctx.Queue})\n",
    "pandarallel.core.CONTEXT = ctx\n",
    "pandarallel.pandarallel.initialize(progress_bar=True)"
   ]
  },
  {
   "cell_type": "code",
   "execution_count": 4,
   "metadata": {},
   "outputs": [],
   "source": [
    "num_rows = 10\n",
    "\n",
    "df = pd.DataFrame(\n",
    "    {\n",
    "        \"seqnum\": np.arange(42, (42 + num_rows), dtype=int),\n",
    "        #\"metric_A\": np.random.rand(num_rows),\n",
    "        #\"metric_B\": np.random.rand(num_rows),\n",
    "        \"metric_C\": np.random.rand(num_rows),\n",
    "        \"alt_seq\": np.random.randint(low=42, high=(42 + num_rows), size=(num_rows,)),\n",
    "        \"label\": np.array(list(\"ATCG\"))[np.random.randint(0, 4, num_rows)],\n",
    "    },\n",
    ")"
   ]
  },
  {
   "cell_type": "code",
   "execution_count": 5,
   "metadata": {},
   "outputs": [
    {
     "data": {
      "text/html": [
       "<div>\n",
       "<style scoped>\n",
       "    .dataframe tbody tr th:only-of-type {\n",
       "        vertical-align: middle;\n",
       "    }\n",
       "\n",
       "    .dataframe tbody tr th {\n",
       "        vertical-align: top;\n",
       "    }\n",
       "\n",
       "    .dataframe thead th {\n",
       "        text-align: right;\n",
       "    }\n",
       "</style>\n",
       "<table border=\"1\" class=\"dataframe\">\n",
       "  <thead>\n",
       "    <tr style=\"text-align: right;\">\n",
       "      <th></th>\n",
       "      <th>seqnum</th>\n",
       "      <th>metric_C</th>\n",
       "      <th>alt_seq</th>\n",
       "      <th>label</th>\n",
       "    </tr>\n",
       "  </thead>\n",
       "  <tbody>\n",
       "    <tr>\n",
       "      <th>0</th>\n",
       "      <td>42</td>\n",
       "      <td>0.090634</td>\n",
       "      <td>50</td>\n",
       "      <td>C</td>\n",
       "    </tr>\n",
       "    <tr>\n",
       "      <th>1</th>\n",
       "      <td>43</td>\n",
       "      <td>0.534844</td>\n",
       "      <td>45</td>\n",
       "      <td>C</td>\n",
       "    </tr>\n",
       "    <tr>\n",
       "      <th>2</th>\n",
       "      <td>44</td>\n",
       "      <td>0.426885</td>\n",
       "      <td>50</td>\n",
       "      <td>T</td>\n",
       "    </tr>\n",
       "    <tr>\n",
       "      <th>3</th>\n",
       "      <td>45</td>\n",
       "      <td>0.361246</td>\n",
       "      <td>47</td>\n",
       "      <td>T</td>\n",
       "    </tr>\n",
       "    <tr>\n",
       "      <th>4</th>\n",
       "      <td>46</td>\n",
       "      <td>0.381398</td>\n",
       "      <td>45</td>\n",
       "      <td>C</td>\n",
       "    </tr>\n",
       "  </tbody>\n",
       "</table>\n",
       "</div>"
      ],
      "text/plain": [
       "   seqnum  metric_C  alt_seq label\n",
       "0      42  0.090634       50     C\n",
       "1      43  0.534844       45     C\n",
       "2      44  0.426885       50     T\n",
       "3      45  0.361246       47     T\n",
       "4      46  0.381398       45     C"
      ]
     },
     "execution_count": 5,
     "metadata": {},
     "output_type": "execute_result"
    }
   ],
   "source": [
    "df.head()"
   ]
  },
  {
   "attachments": {},
   "cell_type": "markdown",
   "metadata": {},
   "source": [
    "The use of a global variable inside a lambda function demonstrates key functionality from `cloudpickle` that is not otherwise available through `dill`."
   ]
  },
  {
   "cell_type": "code",
   "execution_count": 6,
   "metadata": {},
   "outputs": [],
   "source": [
    "cutoff = 0.3"
   ]
  },
  {
   "attachments": {},
   "cell_type": "markdown",
   "metadata": {},
   "source": [
    "Running this next cell will cause as many progress bars to be displayed as there are workers (potentially a lot)."
   ]
  },
  {
   "cell_type": "code",
   "execution_count": 17,
   "metadata": {},
   "outputs": [
    {
     "data": {
      "application/vnd.jupyter.widget-view+json": {
       "model_id": "3130c18c5509461797a75010afec3e73",
       "version_major": 2,
       "version_minor": 0
      },
      "text/plain": [
       "VBox(children=(HBox(children=(IntProgress(value=0, description='0.00%', max=1), Label(value='0 / 1'))), HBox(c…"
      ]
     },
     "metadata": {},
     "output_type": "display_data"
    }
   ],
   "source": [
    "start = time.monotonic()\n",
    "df['highlow_C'] = df['metric_C'].parallel_apply(lambda x: x < cutoff)\n",
    "stop = time.monotonic()\n",
    "tot_time = stop - start\n",
    "time_dict = {}\n",
    "time_dict[\"1\"] = tot_time"
   ]
  },
  {
   "attachments": {},
   "cell_type": "markdown",
   "metadata": {},
   "source": [
    "Now we have our new column of values in our `pandas.DataFrame`."
   ]
  },
  {
   "cell_type": "code",
   "execution_count": 8,
   "metadata": {},
   "outputs": [
    {
     "data": {
      "text/html": [
       "<div>\n",
       "<style scoped>\n",
       "    .dataframe tbody tr th:only-of-type {\n",
       "        vertical-align: middle;\n",
       "    }\n",
       "\n",
       "    .dataframe tbody tr th {\n",
       "        vertical-align: top;\n",
       "    }\n",
       "\n",
       "    .dataframe thead th {\n",
       "        text-align: right;\n",
       "    }\n",
       "</style>\n",
       "<table border=\"1\" class=\"dataframe\">\n",
       "  <thead>\n",
       "    <tr style=\"text-align: right;\">\n",
       "      <th></th>\n",
       "      <th>seqnum</th>\n",
       "      <th>metric_C</th>\n",
       "      <th>alt_seq</th>\n",
       "      <th>label</th>\n",
       "      <th>highlow_C</th>\n",
       "    </tr>\n",
       "  </thead>\n",
       "  <tbody>\n",
       "    <tr>\n",
       "      <th>0</th>\n",
       "      <td>42</td>\n",
       "      <td>0.090634</td>\n",
       "      <td>50</td>\n",
       "      <td>C</td>\n",
       "      <td>True</td>\n",
       "    </tr>\n",
       "    <tr>\n",
       "      <th>1</th>\n",
       "      <td>43</td>\n",
       "      <td>0.534844</td>\n",
       "      <td>45</td>\n",
       "      <td>C</td>\n",
       "      <td>False</td>\n",
       "    </tr>\n",
       "    <tr>\n",
       "      <th>2</th>\n",
       "      <td>44</td>\n",
       "      <td>0.426885</td>\n",
       "      <td>50</td>\n",
       "      <td>T</td>\n",
       "      <td>False</td>\n",
       "    </tr>\n",
       "    <tr>\n",
       "      <th>3</th>\n",
       "      <td>45</td>\n",
       "      <td>0.361246</td>\n",
       "      <td>47</td>\n",
       "      <td>T</td>\n",
       "      <td>False</td>\n",
       "    </tr>\n",
       "    <tr>\n",
       "      <th>4</th>\n",
       "      <td>46</td>\n",
       "      <td>0.381398</td>\n",
       "      <td>45</td>\n",
       "      <td>C</td>\n",
       "      <td>False</td>\n",
       "    </tr>\n",
       "  </tbody>\n",
       "</table>\n",
       "</div>"
      ],
      "text/plain": [
       "   seqnum  metric_C  alt_seq label  highlow_C\n",
       "0      42  0.090634       50     C       True\n",
       "1      43  0.534844       45     C      False\n",
       "2      44  0.426885       50     T      False\n",
       "3      45  0.361246       47     T      False\n",
       "4      46  0.381398       45     C      False"
      ]
     },
     "execution_count": 8,
     "metadata": {},
     "output_type": "execute_result"
    }
   ],
   "source": [
    "df.head()"
   ]
  },
  {
   "attachments": {},
   "cell_type": "markdown",
   "metadata": {},
   "source": [
    "We can change our minds about how many progress bars to display, at will."
   ]
  },
  {
   "cell_type": "code",
   "execution_count": 9,
   "metadata": {},
   "outputs": [
    {
     "name": "stdout",
     "output_type": "stream",
     "text": [
      "INFO: Pandarallel will run on 128 workers.\n",
      "INFO: Pandarallel will use Memory file system to transfer data between the main process and workers.\n"
     ]
    }
   ],
   "source": [
    "pandarallel.pandarallel.initialize(progress_bar=10)  # Will display a total of 10 progress bars."
   ]
  },
  {
   "cell_type": "code",
   "execution_count": 18,
   "metadata": {},
   "outputs": [
    {
     "data": {
      "application/vnd.jupyter.widget-view+json": {
       "model_id": "793c9a9e18804b488e69b44101982586",
       "version_major": 2,
       "version_minor": 0
      },
      "text/plain": [
       "VBox(children=(HBox(children=(IntProgress(value=0, description='0.00%', max=1), Label(value='0 / 1'))), HBox(c…"
      ]
     },
     "metadata": {},
     "output_type": "display_data"
    }
   ],
   "source": [
    "start = time.monotonic()\n",
    "df['highlow_C'] = df['metric_C'].parallel_apply(lambda x: x < cutoff)\n",
    "stop = time.monotonic()\n",
    "tot_time = stop - start\n",
    "time_dict[\"2\"] = tot_time"
   ]
  },
  {
   "attachments": {},
   "cell_type": "markdown",
   "metadata": {},
   "source": [
    "There will be plenty of use cases / scenarios where a single progress bar is all we want."
   ]
  },
  {
   "cell_type": "code",
   "execution_count": 11,
   "metadata": {},
   "outputs": [
    {
     "name": "stdout",
     "output_type": "stream",
     "text": [
      "INFO: Pandarallel will run on 128 workers.\n",
      "INFO: Pandarallel will use Memory file system to transfer data between the main process and workers.\n"
     ]
    }
   ],
   "source": [
    "pandarallel.pandarallel.initialize(progress_bar=1)  # Will display 1 progress bar representing all workers."
   ]
  },
  {
   "cell_type": "code",
   "execution_count": 19,
   "metadata": {},
   "outputs": [
    {
     "data": {
      "application/vnd.jupyter.widget-view+json": {
       "model_id": "50e316ea8c8f47539133d75264ac28ff",
       "version_major": 2,
       "version_minor": 0
      },
      "text/plain": [
       "VBox(children=(HBox(children=(IntProgress(value=0, description='0.00%', max=1), Label(value='0 / 1'))), HBox(c…"
      ]
     },
     "metadata": {},
     "output_type": "display_data"
    }
   ],
   "source": [
    "start = stop = time.monotonic()\n",
    "df['highlow_C'] = df['metric_C'].parallel_apply(lambda x: x < cutoff)\n",
    "stop = time.monotonic()\n",
    "tot_time = stop - start\n",
    "time_dict[\"3\"] = tot_time"
   ]
  },
  {
   "cell_type": "code",
   "execution_count": 33,
   "metadata": {},
   "outputs": [
    {
     "name": "stdout",
     "output_type": "stream",
     "text": [
      "parallel_apply \t Time (nanoseconds)\n",
      "1          2.7243981696665287  \n",
      "2          2.416624452918768   \n",
      "3          2.3884036764502525  \n"
     ]
    }
   ],
   "source": [
    "print(\"parallel_apply\",\"\\t\", \"Time (nanoseconds)\")\n",
    "for key, value in time_dict.items():\n",
    "    print(\"{:<20} {:<20}\".format(key, value))"
   ]
  },
  {
   "attachments": {},
   "cell_type": "markdown",
   "metadata": {},
   "source": [
    "Though it is very minor compared to the overall wall time, reducing the number of progress bars displayed can shave off a small amount of execution time."
   ]
  }
 ],
 "metadata": {
  "kernelspec": {
   "display_name": "Python 3 (ipykernel)",
   "language": "python",
   "name": "python3"
  },
  "language_info": {
   "codemirror_mode": {
    "name": "ipython",
    "version": 3
   },
   "file_extension": ".py",
   "mimetype": "text/x-python",
   "name": "python",
   "nbconvert_exporter": "python",
   "pygments_lexer": "ipython3",
   "version": "3.9.1+"
  }
 },
 "nbformat": 4,
 "nbformat_minor": 4
}
