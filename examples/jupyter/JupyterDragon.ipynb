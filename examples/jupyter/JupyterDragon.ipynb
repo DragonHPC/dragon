{
 "cells": [
  {
   "cell_type": "code",
   "execution_count": 1,
   "id": "a77c5c13",
   "metadata": {},
   "outputs": [],
   "source": [
    "import dragon"
   ]
  },
  {
   "cell_type": "code",
   "execution_count": 2,
   "id": "fdc74024",
   "metadata": {},
   "outputs": [],
   "source": [
    "import os"
   ]
  },
  {
   "cell_type": "code",
   "execution_count": 3,
   "id": "23611026",
   "metadata": {},
   "outputs": [],
   "source": [
    "import multiprocessing as mp"
   ]
  },
  {
   "cell_type": "code",
   "execution_count": 4,
   "id": "c66d33e4",
   "metadata": {},
   "outputs": [],
   "source": [
    "import example as ex"
   ]
  },
  {
   "cell_type": "code",
   "execution_count": 5,
   "id": "8ae2f331",
   "metadata": {},
   "outputs": [],
   "source": [
    "mp.set_start_method('dragon')"
   ]
  },
  {
   "cell_type": "code",
   "execution_count": 6,
   "id": "a7f3b94f",
   "metadata": {},
   "outputs": [
    {
     "name": "stdout",
     "output_type": "stream",
     "text": [
      "Hello DRAGON from pinoak0003!!\n"
     ]
    }
   ],
   "source": [
    "ex.hello()"
   ]
  },
  {
   "cell_type": "code",
   "execution_count": 7,
   "id": "4a86ef5d",
   "metadata": {},
   "outputs": [],
   "source": [
    "#import dragon.infrastructure.util as du"
   ]
  },
  {
   "cell_type": "code",
   "execution_count": 9,
   "id": "80416d11",
   "metadata": {},
   "outputs": [],
   "source": [
    "#du.enable_logging()"
   ]
  },
  {
   "cell_type": "code",
   "execution_count": 10,
   "id": "6484461c",
   "metadata": {},
   "outputs": [],
   "source": [
    "proc = mp.Process(target=ex.hello, args=())"
   ]
  },
  {
   "cell_type": "code",
   "execution_count": 11,
   "id": "ee1cbeef",
   "metadata": {},
   "outputs": [
    {
     "name": "stdout",
     "output_type": "stream",
     "text": [
      "Hello DRAGON from pinoak0004!!\n"
     ]
    }
   ],
   "source": [
    "proc.start()"
   ]
  },
  {
   "cell_type": "code",
   "execution_count": 12,
   "id": "eaae1711",
   "metadata": {},
   "outputs": [],
   "source": [
    "proc.join()"
   ]
  },
  {
   "cell_type": "code",
   "execution_count": 13,
   "id": "d1b8ec31",
   "metadata": {},
   "outputs": [],
   "source": [
    "proc2 = mp.Process(target=ex.hello, args=())"
   ]
  },
  {
   "cell_type": "code",
   "execution_count": 14,
   "id": "07a780a4",
   "metadata": {},
   "outputs": [
    {
     "name": "stdout",
     "output_type": "stream",
     "text": [
      "Hello DRAGON from pinoak0005!!\n"
     ]
    }
   ],
   "source": [
    "proc2.start()"
   ]
  },
  {
   "cell_type": "code",
   "execution_count": 15,
   "id": "4586e533",
   "metadata": {},
   "outputs": [],
   "source": [
    "proc2.join()"
   ]
  },
  {
   "cell_type": "code",
   "execution_count": 25,
   "id": "e1e4c233",
   "metadata": {},
   "outputs": [],
   "source": [
    "#print(os.environ)"
   ]
  },
  {
   "cell_type": "code",
   "execution_count": 23,
   "id": "f1ed3c01",
   "metadata": {},
   "outputs": [],
   "source": [
    "pool = mp.Pool(4)"
   ]
  },
  {
   "cell_type": "code",
   "execution_count": 24,
   "id": "ffd3bdec",
   "metadata": {},
   "outputs": [
    {
     "name": "stdout",
     "output_type": "stream",
     "text": [
      "Hello DRAGON from pinoak0003!!\n",
      "Hello DRAGON from pinoak0003!!\n",
      "Hello DRAGON from pinoak0004!!\n",
      "Hello DRAGON from pinoak0005!!\n"
     ]
    },
    {
     "data": {
      "text/plain": [
       "[None, None, None, None]"
      ]
     },
     "execution_count": 24,
     "metadata": {},
     "output_type": "execute_result"
    }
   ],
   "source": [
    "pool.map(ex.hello, range(4), 1)"
   ]
  },
  {
   "cell_type": "code",
   "execution_count": null,
   "id": "9b0c6fa9",
   "metadata": {},
   "outputs": [],
   "source": []
  }
 ],
 "metadata": {
  "kernelspec": {
   "display_name": "Python 3 (ipykernel)",
   "language": "python",
   "name": "python3"
  },
  "language_info": {
   "codemirror_mode": {
    "name": "ipython",
    "version": 3
   },
   "file_extension": ".py",
   "mimetype": "text/x-python",
   "name": "python",
   "nbconvert_exporter": "python",
   "pygments_lexer": "ipython3",
   "version": "3.9.13"
  }
 },
 "nbformat": 4,
 "nbformat_minor": 5
}
