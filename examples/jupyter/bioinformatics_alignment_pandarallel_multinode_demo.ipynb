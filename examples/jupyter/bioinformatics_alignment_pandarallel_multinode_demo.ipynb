{
 "cells": [
  {
   "cell_type": "markdown",
   "id": "de4aed7f-1e06-43cf-a8e9-82095996ef7c",
   "metadata": {},
   "source": [
    "# Multi-Node Bioinformatics Alignment `pandarallel` Examples with Controlled Number of Progress Bars\n",
    "\n",
    "In the bioinformatics community, the `pandas` `DataFrame` is a popular tool for holding, manipulating, and performing computations on genomic sequence data and their associated properties.  For larger datasets, the need to parallelize operations on DataFrames motivates the need for tools such as `pandarallel`.  Because `pandarallel` is implemented against the standard Python `multiprocessing` library, this represents an opportunity for `dragon` to accelerate and enable greater scalability to users' code without necessarily requiring them to modify their code or patterns of thinking around their code.\n",
    "\n",
    "The example proposed uses a variant of NPSR1 linked to moderate/severe (stage III/IV) endometriosis, asthma, and sleep-related disorders. This variant is queried against a small dataset of nucleotide and protein sequences for the closest match. The closeness of the match is determined by the pairwise alignment, the E-value, and the percentage of match coverage. \n",
    "\n",
    "In a multi-node `dragon` execution configuration, some nodes may be slower/faster than others and it may be helpful to see the relative progress/speed of one cluster's nodes versus others -- this motivates showing more than just a single progress bar representing all workers.\n",
    "\n",
    "The use case illustrates how parallel_apply from pandarallel is used for feature engineering for a k-means clustering use case. The features are commonly utilized in bioinformatics. "
   ]
  },
  {
   "cell_type": "code",
   "execution_count": 1,
   "id": "48858c78-3d2b-4901-877e-ce5207efe28a",
   "metadata": {},
   "outputs": [
    {
     "name": "stdout",
     "output_type": "stream",
     "text": [
      "Collecting git+https://github.com/veena-v-g/pandarallel.git\n",
      "  Cloning https://github.com/veena-v-g/pandarallel.git to /tmp/pip-req-build-5ix_nhke\n",
      "  Running command git clone --filter=blob:none --quiet https://github.com/veena-v-g/pandarallel.git /tmp/pip-req-build-5ix_nhke\n",
      "  Resolved https://github.com/veena-v-g/pandarallel.git to commit 0467c4a733d76db72d987fc03bec4dc1de0f6157\n",
      "  Preparing metadata (setup.py) ... \u001b[?25ldone\n",
      "\u001b[?25hCollecting dill>=0.3.1 (from pandarallel==1.6.5)\n",
      "  Obtaining dependency information for dill>=0.3.1 from https://files.pythonhosted.org/packages/f5/3a/74a29b11cf2cdfcd6ba89c0cecd70b37cd1ba7b77978ce611eb7a146a832/dill-0.3.7-py3-none-any.whl.metadata\n",
      "  Using cached dill-0.3.7-py3-none-any.whl.metadata (9.9 kB)\n",
      "Collecting pandas>=1 (from pandarallel==1.6.5)\n",
      "  Obtaining dependency information for pandas>=1 from https://files.pythonhosted.org/packages/83/f0/2765daac3c58165460b127df5c0ef7b3a039f3bfe7ea7a51f3d20b01371b/pandas-2.1.0-cp39-cp39-manylinux_2_17_x86_64.manylinux2014_x86_64.whl.metadata\n",
      "  Using cached pandas-2.1.0-cp39-cp39-manylinux_2_17_x86_64.manylinux2014_x86_64.whl.metadata (18 kB)\n",
      "Collecting psutil (from pandarallel==1.6.5)\n",
      "  Using cached psutil-5.9.5-cp36-abi3-manylinux_2_12_x86_64.manylinux2010_x86_64.manylinux_2_17_x86_64.manylinux2014_x86_64.whl (282 kB)\n",
      "Collecting numpy>=1.22.4 (from pandas>=1->pandarallel==1.6.5)\n",
      "  Obtaining dependency information for numpy>=1.22.4 from https://files.pythonhosted.org/packages/69/1f/c95b1108a9972a52d7b1b63ed8ca70466b59b8c1811bd121f1e667cc45d8/numpy-1.25.2-cp39-cp39-manylinux_2_17_x86_64.manylinux2014_x86_64.whl.metadata\n",
      "  Using cached numpy-1.25.2-cp39-cp39-manylinux_2_17_x86_64.manylinux2014_x86_64.whl.metadata (5.6 kB)\n",
      "Collecting python-dateutil>=2.8.2 (from pandas>=1->pandarallel==1.6.5)\n",
      "  Using cached python_dateutil-2.8.2-py2.py3-none-any.whl (247 kB)\n",
      "Collecting pytz>=2020.1 (from pandas>=1->pandarallel==1.6.5)\n",
      "  Using cached pytz-2023.3-py2.py3-none-any.whl (502 kB)\n",
      "Collecting tzdata>=2022.1 (from pandas>=1->pandarallel==1.6.5)\n",
      "  Using cached tzdata-2023.3-py2.py3-none-any.whl (341 kB)\n",
      "Collecting six>=1.5 (from python-dateutil>=2.8.2->pandas>=1->pandarallel==1.6.5)\n",
      "  Using cached six-1.16.0-py2.py3-none-any.whl (11 kB)\n",
      "Using cached dill-0.3.7-py3-none-any.whl (115 kB)\n",
      "Using cached pandas-2.1.0-cp39-cp39-manylinux_2_17_x86_64.manylinux2014_x86_64.whl (12.7 MB)\n",
      "Using cached numpy-1.25.2-cp39-cp39-manylinux_2_17_x86_64.manylinux2014_x86_64.whl (18.3 MB)\n",
      "Building wheels for collected packages: pandarallel\n",
      "  Building wheel for pandarallel (setup.py) ... \u001b[?25ldone\n",
      "\u001b[?25h  Created wheel for pandarallel: filename=pandarallel-1.6.5-py3-none-any.whl size=16686 sha256=4fa838c82c222ebd76efc99170b08197a424390342b90ef1439dc17c3a720621\n",
      "  Stored in directory: /tmp/pip-ephem-wheel-cache-hmcqkw65/wheels/2c/e8/56/cae6719ea1cc93a3d5a5d5ca140900fec9d4bf2d543ea7a349\n",
      "Successfully built pandarallel\n",
      "Installing collected packages: pytz, tzdata, six, psutil, numpy, dill, python-dateutil, pandas, pandarallel\n",
      "  Attempting uninstall: pytz\n",
      "    Found existing installation: pytz 2023.3\n",
      "    Uninstalling pytz-2023.3:\n",
      "      Successfully uninstalled pytz-2023.3\n",
      "  Attempting uninstall: tzdata\n",
      "    Found existing installation: tzdata 2023.3\n",
      "    Uninstalling tzdata-2023.3:\n",
      "      Successfully uninstalled tzdata-2023.3\n",
      "  Attempting uninstall: six\n",
      "    Found existing installation: six 1.16.0\n",
      "    Uninstalling six-1.16.0:\n",
      "      Successfully uninstalled six-1.16.0\n",
      "  Attempting uninstall: psutil\n",
      "    Found existing installation: psutil 5.9.5\n",
      "    Uninstalling psutil-5.9.5:\n",
      "      Successfully uninstalled psutil-5.9.5\n",
      "\u001b[31mERROR: Could not install packages due to an OSError: [Errno 16] Device or resource busy: '.nfs0000000473b7111600000004'\n",
      "\u001b[0m\u001b[31m\n",
      "\u001b[0mRequirement already satisfied: biopython in /cray/css/users/ghorakav/dragon_31032022/hpc-pe-dragon-dragon/_env/lib/python3.9/site-packages (1.81)\n",
      "Requirement already satisfied: numpy in /cray/css/users/ghorakav/dragon_31032022/hpc-pe-dragon-dragon/_env/lib/python3.9/site-packages (from biopython) (1.23.5)\n",
      "Requirement already satisfied: pyalign in /cray/css/users/ghorakav/dragon_31032022/hpc-pe-dragon-dragon/_env/lib/python3.9/site-packages (0.4.4)\n",
      "Requirement already satisfied: numpy~=1.19 in /cray/css/users/ghorakav/dragon_31032022/hpc-pe-dragon-dragon/_env/lib/python3.9/site-packages (from pyalign) (1.23.5)\n",
      "Requirement already satisfied: pybind11~=2.6.2 in /cray/css/users/ghorakav/dragon_31032022/hpc-pe-dragon-dragon/_env/lib/python3.9/site-packages (from pyalign) (2.6.2)\n",
      "Requirement already satisfied: cached-property in /cray/css/users/ghorakav/dragon_31032022/hpc-pe-dragon-dragon/_env/lib/python3.9/site-packages (from pyalign) (1.5.2)\n",
      "Requirement already satisfied: py-cpuinfo==8.0.0 in /cray/css/users/ghorakav/dragon_31032022/hpc-pe-dragon-dragon/_env/lib/python3.9/site-packages (from pyalign) (8.0.0)\n",
      "Requirement already satisfied: pymorton==1.0.5 in /cray/css/users/ghorakav/dragon_31032022/hpc-pe-dragon-dragon/_env/lib/python3.9/site-packages (from pyalign) (1.0.5)\n",
      "Requirement already satisfied: pyyaml==6.0 in /cray/css/users/ghorakav/dragon_31032022/hpc-pe-dragon-dragon/_env/lib/python3.9/site-packages (from pyalign) (6.0)\n",
      "Requirement already satisfied: cpufeature==0.2.0 in /cray/css/users/ghorakav/dragon_31032022/hpc-pe-dragon-dragon/_env/lib/python3.9/site-packages (from pyalign) (0.2.0)\n",
      "Requirement already satisfied: scikit-learn in /cray/css/users/ghorakav/dragon_31032022/hpc-pe-dragon-dragon/_env/lib/python3.9/site-packages (1.3.0)\n",
      "Requirement already satisfied: numpy>=1.17.3 in /cray/css/users/ghorakav/dragon_31032022/hpc-pe-dragon-dragon/_env/lib/python3.9/site-packages (from scikit-learn) (1.23.5)\n",
      "Requirement already satisfied: scipy>=1.5.0 in /cray/css/users/ghorakav/dragon_31032022/hpc-pe-dragon-dragon/_env/lib/python3.9/site-packages (from scikit-learn) (1.9.3)\n",
      "Requirement already satisfied: joblib>=1.1.1 in /cray/css/users/ghorakav/dragon_31032022/hpc-pe-dragon-dragon/_env/lib/python3.9/site-packages (from scikit-learn) (1.3.2)\n",
      "Requirement already satisfied: threadpoolctl>=2.0.0 in /cray/css/users/ghorakav/dragon_31032022/hpc-pe-dragon-dragon/_env/lib/python3.9/site-packages (from scikit-learn) (3.2.0)\n",
      "Requirement already satisfied: matplotlib in /cray/css/users/ghorakav/dragon_31032022/hpc-pe-dragon-dragon/_env/lib/python3.9/site-packages (3.7.2)\n",
      "Requirement already satisfied: contourpy>=1.0.1 in /cray/css/users/ghorakav/dragon_31032022/hpc-pe-dragon-dragon/_env/lib/python3.9/site-packages (from matplotlib) (1.1.0)\n",
      "Requirement already satisfied: cycler>=0.10 in /cray/css/users/ghorakav/dragon_31032022/hpc-pe-dragon-dragon/_env/lib/python3.9/site-packages (from matplotlib) (0.11.0)\n",
      "Requirement already satisfied: fonttools>=4.22.0 in /cray/css/users/ghorakav/dragon_31032022/hpc-pe-dragon-dragon/_env/lib/python3.9/site-packages (from matplotlib) (4.42.1)\n",
      "Requirement already satisfied: kiwisolver>=1.0.1 in /cray/css/users/ghorakav/dragon_31032022/hpc-pe-dragon-dragon/_env/lib/python3.9/site-packages (from matplotlib) (1.4.5)\n",
      "Requirement already satisfied: numpy>=1.20 in /cray/css/users/ghorakav/dragon_31032022/hpc-pe-dragon-dragon/_env/lib/python3.9/site-packages (from matplotlib) (1.23.5)\n",
      "Requirement already satisfied: packaging>=20.0 in /cray/css/users/ghorakav/dragon_31032022/hpc-pe-dragon-dragon/_env/lib/python3.9/site-packages (from matplotlib) (21.3)\n",
      "Requirement already satisfied: pillow>=6.2.0 in /cray/css/users/ghorakav/dragon_31032022/hpc-pe-dragon-dragon/_env/lib/python3.9/site-packages (from matplotlib) (10.0.0)\n",
      "Requirement already satisfied: pyparsing<3.1,>=2.3.1 in /cray/css/users/ghorakav/dragon_31032022/hpc-pe-dragon-dragon/_env/lib/python3.9/site-packages (from matplotlib) (3.0.9)\n",
      "Requirement already satisfied: python-dateutil>=2.7 in /cray/css/users/ghorakav/dragon_31032022/hpc-pe-dragon-dragon/_env/lib/python3.9/site-packages (from matplotlib) (2.8.2)\n",
      "Requirement already satisfied: importlib-resources>=3.2.0 in /cray/css/users/ghorakav/dragon_31032022/hpc-pe-dragon-dragon/_env/lib/python3.9/site-packages (from matplotlib) (6.0.1)\n",
      "Requirement already satisfied: zipp>=3.1.0 in /cray/css/users/ghorakav/dragon_31032022/hpc-pe-dragon-dragon/_env/lib/python3.9/site-packages (from importlib-resources>=3.2.0->matplotlib) (3.11.0)\n",
      "Requirement already satisfied: six>=1.5 in /cray/css/users/ghorakav/dragon_31032022/hpc-pe-dragon-dragon/_env/lib/python3.9/site-packages (from python-dateutil>=2.7->matplotlib) (1.16.0)\n",
      "Requirement already satisfied: seaborn in /cray/css/users/ghorakav/dragon_31032022/hpc-pe-dragon-dragon/_env/lib/python3.9/site-packages (0.12.2)\n",
      "Requirement already satisfied: numpy!=1.24.0,>=1.17 in /cray/css/users/ghorakav/dragon_31032022/hpc-pe-dragon-dragon/_env/lib/python3.9/site-packages (from seaborn) (1.23.5)\n",
      "Requirement already satisfied: pandas>=0.25 in /cray/css/users/ghorakav/dragon_31032022/hpc-pe-dragon-dragon/_env/lib/python3.9/site-packages (from seaborn) (2.1.0)\n",
      "Requirement already satisfied: matplotlib!=3.6.1,>=3.1 in /cray/css/users/ghorakav/dragon_31032022/hpc-pe-dragon-dragon/_env/lib/python3.9/site-packages (from seaborn) (3.7.2)\n",
      "Requirement already satisfied: contourpy>=1.0.1 in /cray/css/users/ghorakav/dragon_31032022/hpc-pe-dragon-dragon/_env/lib/python3.9/site-packages (from matplotlib!=3.6.1,>=3.1->seaborn) (1.1.0)\n",
      "Requirement already satisfied: cycler>=0.10 in /cray/css/users/ghorakav/dragon_31032022/hpc-pe-dragon-dragon/_env/lib/python3.9/site-packages (from matplotlib!=3.6.1,>=3.1->seaborn) (0.11.0)\n",
      "Requirement already satisfied: fonttools>=4.22.0 in /cray/css/users/ghorakav/dragon_31032022/hpc-pe-dragon-dragon/_env/lib/python3.9/site-packages (from matplotlib!=3.6.1,>=3.1->seaborn) (4.42.1)\n",
      "Requirement already satisfied: kiwisolver>=1.0.1 in /cray/css/users/ghorakav/dragon_31032022/hpc-pe-dragon-dragon/_env/lib/python3.9/site-packages (from matplotlib!=3.6.1,>=3.1->seaborn) (1.4.5)\n",
      "Requirement already satisfied: packaging>=20.0 in /cray/css/users/ghorakav/dragon_31032022/hpc-pe-dragon-dragon/_env/lib/python3.9/site-packages (from matplotlib!=3.6.1,>=3.1->seaborn) (21.3)\n",
      "Requirement already satisfied: pillow>=6.2.0 in /cray/css/users/ghorakav/dragon_31032022/hpc-pe-dragon-dragon/_env/lib/python3.9/site-packages (from matplotlib!=3.6.1,>=3.1->seaborn) (10.0.0)\n",
      "Requirement already satisfied: pyparsing<3.1,>=2.3.1 in /cray/css/users/ghorakav/dragon_31032022/hpc-pe-dragon-dragon/_env/lib/python3.9/site-packages (from matplotlib!=3.6.1,>=3.1->seaborn) (3.0.9)\n",
      "Requirement already satisfied: python-dateutil>=2.7 in /cray/css/users/ghorakav/dragon_31032022/hpc-pe-dragon-dragon/_env/lib/python3.9/site-packages (from matplotlib!=3.6.1,>=3.1->seaborn) (2.8.2)\n",
      "Requirement already satisfied: importlib-resources>=3.2.0 in /cray/css/users/ghorakav/dragon_31032022/hpc-pe-dragon-dragon/_env/lib/python3.9/site-packages (from matplotlib!=3.6.1,>=3.1->seaborn) (6.0.1)\n",
      "Requirement already satisfied: pytz>=2020.1 in /cray/css/users/ghorakav/dragon_31032022/hpc-pe-dragon-dragon/_env/lib/python3.9/site-packages (from pandas>=0.25->seaborn) (2023.3)\n",
      "Requirement already satisfied: tzdata>=2022.1 in /cray/css/users/ghorakav/dragon_31032022/hpc-pe-dragon-dragon/_env/lib/python3.9/site-packages (from pandas>=0.25->seaborn) (2023.3)\n",
      "Requirement already satisfied: zipp>=3.1.0 in /cray/css/users/ghorakav/dragon_31032022/hpc-pe-dragon-dragon/_env/lib/python3.9/site-packages (from importlib-resources>=3.2.0->matplotlib!=3.6.1,>=3.1->seaborn) (3.11.0)\n",
      "Requirement already satisfied: six>=1.5 in /cray/css/users/ghorakav/dragon_31032022/hpc-pe-dragon-dragon/_env/lib/python3.9/site-packages (from python-dateutil>=2.7->matplotlib!=3.6.1,>=3.1->seaborn) (1.16.0)\n"
     ]
    }
   ],
   "source": [
    "!pip install pandarallel\n",
    "!pip install biopython\n",
    "!pip install pyalign\n",
    "!pip install scikit-learn\n",
    "!pip install matplotlib\n",
    "!pip install seaborn"
   ]
  },
  {
   "cell_type": "code",
   "execution_count": 3,
   "id": "7fc76ae1-f48a-4329-948a-26399a15f62f",
   "metadata": {},
   "outputs": [
    {
     "data": {
      "text/plain": [
       "'1.6.5'"
      ]
     },
     "execution_count": 3,
     "metadata": {},
     "output_type": "execute_result"
    }
   ],
   "source": [
    "import dragon\n",
    "import multiprocessing\n",
    "\n",
    "import cloudpickle\n",
    "\n",
    "import os\n",
    "os.environ['OPENBLAS_NUM_THREADS'] = '1'\n",
    "\n",
    "import numpy as np\n",
    "import pandas as pd\n",
    "\n",
    "import Bio\n",
    "from Bio import SeqIO, Entrez\n",
    "import pyalign\n",
    "import time\n",
    "import matplotlib.pyplot as plt\n",
    "from sklearn.cluster import KMeans\n",
    "import seaborn as sns\n",
    "import os.path\n",
    "import pandarallel; pandarallel.__version__"
   ]
  },
  {
   "cell_type": "markdown",
   "id": "7eed1e4a-a073-487d-bed9-b1b95aeeaa8b",
   "metadata": {},
   "source": [
    "The NPSR1 variant, rs142885915, is linked to stage III/IV endometriosis. The GenBank record is linked here: https://www.ncbi.nlm.nih.gov/protein/AKI72104.1"
   ]
  },
  {
   "cell_type": "code",
   "execution_count": 4,
   "id": "fd438411-64bc-4354-82d9-90f1eb506806",
   "metadata": {},
   "outputs": [],
   "source": [
    "Entrez.email = raise Exception(\"need to set your email address here\")\n",
    "handle = Entrez.efetch(db=\"protein\", id=\"AKI72104.1\", rettype=\"gb\", retmode=\"text\")\n",
    "read = SeqIO.read(handle, \"genbank\")\n",
    "handle.close()\n",
    "endo_name, endo_transl, endo_descr = str(read.name), str(read.seq), str(read.description)"
   ]
  },
  {
   "cell_type": "markdown",
   "id": "e1103977-d6e9-4771-b55b-73793b1c8182",
   "metadata": {},
   "source": [
    "A subset of the protein database is created that is specific to NPSR1. The database is written to a csv file. If the database exists, it is read from the file. "
   ]
  },
  {
   "cell_type": "code",
   "execution_count": 5,
   "id": "3ad23dfb-d0f7-4223-8ea8-22fe57873553",
   "metadata": {},
   "outputs": [],
   "source": [
    "if os.path.isfile(\"NSPR1_proteins_database.csv\"):\n",
    "    aa_df = pd.read_csv(\"NSPR1_proteins_database.csv\", on_bad_lines='skip')\n",
    "else:\n",
    "    handle = Entrez.esearch(db=\"protein\", term=\"npsr1[gene] AND mammals[ORGN]\", retmax='100')\n",
    "    record = Entrez.read(handle)\n",
    "    aa_identifiers = list(record[\"IdList\"])\n",
    "    handle.close()\n",
    "    aa_id_names, aa_sequences, aa_descriptions = [endo_name], [endo_transl], [endo_descr]\n",
    "    for idx, seq_id in enumerate(aa_identifiers):\n",
    "        try:\n",
    "            handle = Entrez.efetch(db=\"protein\", id=seq_id,  retmode='text', rettype='gb')\n",
    "            read = SeqIO.read(handle, \"genbank\")\n",
    "            aa_id_names.append(str(read.name))\n",
    "            aa_sequences.append(str(read.seq))\n",
    "            aa_descriptions.append(str(read.description))\n",
    "            handle.close()\n",
    "        except:\n",
    "            pass\n",
    "    aa_df = pd.DataFrame(list(zip(aa_id_names, aa_sequences, aa_descriptions)), columns=['ID Name','Sequence', 'Description'])\n",
    "    aa_df.to_csv(\"NSPR1_proteins_database.csv\", index=False)"
   ]
  },
  {
   "cell_type": "code",
   "execution_count": 6,
   "id": "8d040daf-4965-45bc-9a51-3272cfd23d72",
   "metadata": {},
   "outputs": [
    {
     "data": {
      "text/html": [
       "<div>\n",
       "<style scoped>\n",
       "    .dataframe tbody tr th:only-of-type {\n",
       "        vertical-align: middle;\n",
       "    }\n",
       "\n",
       "    .dataframe tbody tr th {\n",
       "        vertical-align: top;\n",
       "    }\n",
       "\n",
       "    .dataframe thead th {\n",
       "        text-align: right;\n",
       "    }\n",
       "</style>\n",
       "<table border=\"1\" class=\"dataframe\">\n",
       "  <thead>\n",
       "    <tr style=\"text-align: right;\">\n",
       "      <th></th>\n",
       "      <th>ID Name</th>\n",
       "      <th>Sequence</th>\n",
       "      <th>Description</th>\n",
       "    </tr>\n",
       "  </thead>\n",
       "  <tbody>\n",
       "    <tr>\n",
       "      <th>0</th>\n",
       "      <td>AKI72104</td>\n",
       "      <td>MPANFTEGSFDSSGTGQTLDSSPVACTETVTFTEVVEGKEWGSFYY...</td>\n",
       "      <td>NPSR1, partial [synthetic construct]</td>\n",
       "    </tr>\n",
       "    <tr>\n",
       "      <th>1</th>\n",
       "      <td>XP_058580602</td>\n",
       "      <td>MPANLTEGSPDSKGSSGTTQTPDASPALCTETMTFTEVVEGEEWGS...</td>\n",
       "      <td>neuropeptide S receptor [Neofelis nebulosa]</td>\n",
       "    </tr>\n",
       "    <tr>\n",
       "      <th>2</th>\n",
       "      <td>XP_012781596</td>\n",
       "      <td>MPANWTEGSTTSNQTTLTLGLSPVTCTATVTFTEVVDQEEWGSFYY...</td>\n",
       "      <td>neuropeptide S receptor isoform X2 [Ochotona p...</td>\n",
       "    </tr>\n",
       "    <tr>\n",
       "      <th>3</th>\n",
       "      <td>XP_004582431</td>\n",
       "      <td>MPANWTEGSTTSNQTTLTLGLSPVTCTATVTFTEVVDQEEWGSFYY...</td>\n",
       "      <td>neuropeptide S receptor isoform X1 [Ochotona p...</td>\n",
       "    </tr>\n",
       "    <tr>\n",
       "      <th>4</th>\n",
       "      <td>NP_783609</td>\n",
       "      <td>MPANLTEGSFHANQTVPMLDSSPVACTEIVTFTEALVAEEWGSFYS...</td>\n",
       "      <td>neuropeptide S receptor [Mus musculus]</td>\n",
       "    </tr>\n",
       "    <tr>\n",
       "      <th>...</th>\n",
       "      <td>...</td>\n",
       "      <td>...</td>\n",
       "      <td>...</td>\n",
       "    </tr>\n",
       "    <tr>\n",
       "      <th>96</th>\n",
       "      <td>XP_051052880</td>\n",
       "      <td>MPANLTEGNSHANQTVACTEIVTFTEVLAVEEGGSFYSSFKTEQLI...</td>\n",
       "      <td>neuropeptide S receptor [Phodopus roborovskii]</td>\n",
       "    </tr>\n",
       "    <tr>\n",
       "      <th>97</th>\n",
       "      <td>XP_049749630</td>\n",
       "      <td>MPANLTEGSPDSSGTTQMLDSSPAACSETVTVTEVVEGEEWGSFYS...</td>\n",
       "      <td>neuropeptide S receptor isoform X3 [Elephas ma...</td>\n",
       "    </tr>\n",
       "    <tr>\n",
       "      <th>98</th>\n",
       "      <td>XP_049749629</td>\n",
       "      <td>MPANLTEGSPDSSGTTQMLDSSPAACSETVTVTEVVEGEEWGSFYS...</td>\n",
       "      <td>neuropeptide S receptor isoform X2 [Elephas ma...</td>\n",
       "    </tr>\n",
       "    <tr>\n",
       "      <th>99</th>\n",
       "      <td>XP_049749628</td>\n",
       "      <td>MPANLTEGSPDSSGTTQMLDSSPAACSETVTVTEVVEGEEWGSFYS...</td>\n",
       "      <td>neuropeptide S receptor isoform X1 [Elephas ma...</td>\n",
       "    </tr>\n",
       "    <tr>\n",
       "      <th>100</th>\n",
       "      <td>XP_049637696</td>\n",
       "      <td>MPPVWSNCEVLLTSLALIMFTPSVLMSTSCKLSHADGSELRQNSKS...</td>\n",
       "      <td>LOW QUALITY PROTEIN: neuropeptide S receptor [...</td>\n",
       "    </tr>\n",
       "  </tbody>\n",
       "</table>\n",
       "<p>101 rows × 3 columns</p>\n",
       "</div>"
      ],
      "text/plain": [
       "          ID Name                                           Sequence  \\\n",
       "0        AKI72104  MPANFTEGSFDSSGTGQTLDSSPVACTETVTFTEVVEGKEWGSFYY...   \n",
       "1    XP_058580602  MPANLTEGSPDSKGSSGTTQTPDASPALCTETMTFTEVVEGEEWGS...   \n",
       "2    XP_012781596  MPANWTEGSTTSNQTTLTLGLSPVTCTATVTFTEVVDQEEWGSFYY...   \n",
       "3    XP_004582431  MPANWTEGSTTSNQTTLTLGLSPVTCTATVTFTEVVDQEEWGSFYY...   \n",
       "4       NP_783609  MPANLTEGSFHANQTVPMLDSSPVACTEIVTFTEALVAEEWGSFYS...   \n",
       "..            ...                                                ...   \n",
       "96   XP_051052880  MPANLTEGNSHANQTVACTEIVTFTEVLAVEEGGSFYSSFKTEQLI...   \n",
       "97   XP_049749630  MPANLTEGSPDSSGTTQMLDSSPAACSETVTVTEVVEGEEWGSFYS...   \n",
       "98   XP_049749629  MPANLTEGSPDSSGTTQMLDSSPAACSETVTVTEVVEGEEWGSFYS...   \n",
       "99   XP_049749628  MPANLTEGSPDSSGTTQMLDSSPAACSETVTVTEVVEGEEWGSFYS...   \n",
       "100  XP_049637696  MPPVWSNCEVLLTSLALIMFTPSVLMSTSCKLSHADGSELRQNSKS...   \n",
       "\n",
       "                                           Description  \n",
       "0                 NPSR1, partial [synthetic construct]  \n",
       "1          neuropeptide S receptor [Neofelis nebulosa]  \n",
       "2    neuropeptide S receptor isoform X2 [Ochotona p...  \n",
       "3    neuropeptide S receptor isoform X1 [Ochotona p...  \n",
       "4               neuropeptide S receptor [Mus musculus]  \n",
       "..                                                 ...  \n",
       "96      neuropeptide S receptor [Phodopus roborovskii]  \n",
       "97   neuropeptide S receptor isoform X3 [Elephas ma...  \n",
       "98   neuropeptide S receptor isoform X2 [Elephas ma...  \n",
       "99   neuropeptide S receptor isoform X1 [Elephas ma...  \n",
       "100  LOW QUALITY PROTEIN: neuropeptide S receptor [...  \n",
       "\n",
       "[101 rows x 3 columns]"
      ]
     },
     "execution_count": 6,
     "metadata": {},
     "output_type": "execute_result"
    }
   ],
   "source": [
    "aa_df"
   ]
  },
  {
   "cell_type": "markdown",
   "id": "780af77d-7cf4-4e03-b728-f71b80553368",
   "metadata": {},
   "source": [
    "The use of a global variable inside a lambda function demonstrates key functionality from `cloudpickle` that is not otherwise available through `dill`. There is one progress bar for each worker. "
   ]
  },
  {
   "cell_type": "code",
   "execution_count": 7,
   "id": "bf528935-d55c-429b-bb49-674f744d98a6",
   "metadata": {},
   "outputs": [
    {
     "name": "stdout",
     "output_type": "stream",
     "text": [
      "INFO: Pandarallel will run on 8 workers.\n",
      "INFO: Pandarallel will use Memory file system to transfer data between the main process and workers.\n"
     ]
    }
   ],
   "source": [
    "multiprocessing.set_start_method(\"dragon\")\n",
    "pandarallel.core.dill = cloudpickle\n",
    "ctx = multiprocessing.get_context(\"dragon\")\n",
    "ctx.Manager = type(\"PMgr\", (), {\"Queue\": ctx.Queue})\n",
    "pandarallel.core.CONTEXT = ctx\n",
    "pandarallel.pandarallel.initialize(progress_bar=True)"
   ]
  },
  {
   "cell_type": "markdown",
   "id": "7a63e05f-2632-4e53-b80b-e7e191901bcf",
   "metadata": {},
   "source": [
    "The pairwise alignment algorithm from PyAlign can be used for either nucleotide or amino acid sequences to find similar regions in two sequences. The pairwise alignment score can point to similar functions, evolutionary origins, and structural elements in the two sequences. The higher the score, the better the alignment."
   ]
  },
  {
   "cell_type": "code",
   "execution_count": 8,
   "id": "d156a8bb-b8ca-4e8f-aa53-1f64702f8c93",
   "metadata": {},
   "outputs": [],
   "source": [
    "def alignment_algorithm(sequence_1, sequence_2, gap):\n",
    "    alignment = pyalign.global_alignment(sequence_1, sequence_2, gap_cost=gap, eq=1, ne=-1)\n",
    "    return alignment.score"
   ]
  },
  {
   "cell_type": "markdown",
   "id": "badac7e0-07b5-48f3-a3b7-e51d3f0a6c79",
   "metadata": {},
   "source": [
    "The E value is used to determine the number of hits one can expect to see when searching the database. As the score increases, the E value decreases. This means there is a reduction in noise. The smaller the E-value, the better the match. The E value is calculated with using the Jaccard distance."
   ]
  },
  {
   "cell_type": "code",
   "execution_count": 9,
   "id": "0c924426-675c-413c-bc50-af5f79834bf4",
   "metadata": {},
   "outputs": [],
   "source": [
    "def jaccard_similarity(list1, list2):\n",
    "    intersection = len(list(set(list1).intersection(list2)))\n",
    "    union = (len(set(list1)) + len(set(list2))) - intersection\n",
    "    return 1.0 - float(intersection) / union"
   ]
  },
  {
   "cell_type": "markdown",
   "id": "6a32100b-a683-4efe-bcce-2b0de36d463d",
   "metadata": {},
   "source": [
    "The new column of values in our pandas.DataFrame that shows the pairwise alignment from PyAlign."
   ]
  },
  {
   "cell_type": "code",
   "execution_count": 10,
   "id": "5537233d-5c30-43fe-8a01-107685bdab34",
   "metadata": {},
   "outputs": [
    {
     "data": {
      "application/vnd.jupyter.widget-view+json": {
       "model_id": "77c180b7c106458e8a84f8978da6165f",
       "version_major": 2,
       "version_minor": 0
      },
      "text/plain": [
       "VBox(children=(HBox(children=(IntProgress(value=0, description='0.00%', max=13), Label(value='0 / 13'))), HBox…"
      ]
     },
     "metadata": {},
     "output_type": "display_data"
    },
    {
     "data": {
      "text/html": [
       "<div>\n",
       "<style scoped>\n",
       "    .dataframe tbody tr th:only-of-type {\n",
       "        vertical-align: middle;\n",
       "    }\n",
       "\n",
       "    .dataframe tbody tr th {\n",
       "        vertical-align: top;\n",
       "    }\n",
       "\n",
       "    .dataframe thead th {\n",
       "        text-align: right;\n",
       "    }\n",
       "</style>\n",
       "<table border=\"1\" class=\"dataframe\">\n",
       "  <thead>\n",
       "    <tr style=\"text-align: right;\">\n",
       "      <th></th>\n",
       "      <th>ID Name</th>\n",
       "      <th>Sequence</th>\n",
       "      <th>PyAlign Alignment Score</th>\n",
       "      <th>Description</th>\n",
       "    </tr>\n",
       "  </thead>\n",
       "  <tbody>\n",
       "    <tr>\n",
       "      <th>0</th>\n",
       "      <td>AKI72104</td>\n",
       "      <td>MPANFTEGSFDSSGTGQTLDSSPVACTETVTFTEVVEGKEWGSFYY...</td>\n",
       "      <td>377.0</td>\n",
       "      <td>NPSR1, partial [synthetic construct]</td>\n",
       "    </tr>\n",
       "    <tr>\n",
       "      <th>40</th>\n",
       "      <td>XP_004045349</td>\n",
       "      <td>MPANFTEGSFDSSGTGQTLDSSPVACTETVTFTEVVEGKEWGSFYY...</td>\n",
       "      <td>373.0</td>\n",
       "      <td>neuropeptide S receptor isoform X2 [Gorilla go...</td>\n",
       "    </tr>\n",
       "    <tr>\n",
       "      <th>32</th>\n",
       "      <td>XP_003812004</td>\n",
       "      <td>MPANFTEGSFDSSGTGQTLDSSPVACTETVTFTEVVEGKEWGSFYY...</td>\n",
       "      <td>372.0</td>\n",
       "      <td>neuropeptide S receptor isoform X1 [Pan paniscus]</td>\n",
       "    </tr>\n",
       "    <tr>\n",
       "      <th>62</th>\n",
       "      <td>XP_054352657</td>\n",
       "      <td>MPANFTEGSFDSSGTGQTLDSSPVACTETVTFTEVVEGKEWGSFYY...</td>\n",
       "      <td>371.0</td>\n",
       "      <td>neuropeptide S receptor isoform X1 [Pongo pygm...</td>\n",
       "    </tr>\n",
       "    <tr>\n",
       "      <th>57</th>\n",
       "      <td>XP_024105546</td>\n",
       "      <td>MPANFTEGSFDSSGTGQTLDSSPVACTETVTFTEVVEGKEWGSFYY...</td>\n",
       "      <td>370.0</td>\n",
       "      <td>neuropeptide S receptor isoform X1 [Pongo abelii]</td>\n",
       "    </tr>\n",
       "  </tbody>\n",
       "</table>\n",
       "</div>"
      ],
      "text/plain": [
       "         ID Name                                           Sequence  \\\n",
       "0       AKI72104  MPANFTEGSFDSSGTGQTLDSSPVACTETVTFTEVVEGKEWGSFYY...   \n",
       "40  XP_004045349  MPANFTEGSFDSSGTGQTLDSSPVACTETVTFTEVVEGKEWGSFYY...   \n",
       "32  XP_003812004  MPANFTEGSFDSSGTGQTLDSSPVACTETVTFTEVVEGKEWGSFYY...   \n",
       "62  XP_054352657  MPANFTEGSFDSSGTGQTLDSSPVACTETVTFTEVVEGKEWGSFYY...   \n",
       "57  XP_024105546  MPANFTEGSFDSSGTGQTLDSSPVACTETVTFTEVVEGKEWGSFYY...   \n",
       "\n",
       "    PyAlign Alignment Score                                        Description  \n",
       "0                     377.0               NPSR1, partial [synthetic construct]  \n",
       "40                    373.0  neuropeptide S receptor isoform X2 [Gorilla go...  \n",
       "32                    372.0  neuropeptide S receptor isoform X1 [Pan paniscus]  \n",
       "62                    371.0  neuropeptide S receptor isoform X1 [Pongo pygm...  \n",
       "57                    370.0  neuropeptide S receptor isoform X1 [Pongo abelii]  "
      ]
     },
     "execution_count": 10,
     "metadata": {},
     "output_type": "execute_result"
    }
   ],
   "source": [
    "start = time.monotonic()\n",
    "aa_df['PyAlign Alignment Score'] = aa_df['Sequence'].parallel_apply(lambda seq2: alignment_algorithm(endo_transl, seq2, gap=0))\n",
    "stop = time.monotonic()\n",
    "aa_functions, aa_bar_num, aa_tot_time = ['PyAlign Alignment Score'],[10],[stop-start]\n",
    "aa_df.sort_values(by=['PyAlign Alignment Score'],  inplace = True, ascending=False)\n",
    "aa_df = aa_df[['ID Name','Sequence', 'PyAlign Alignment Score', 'Description']]\n",
    "aa_df.head()"
   ]
  },
  {
   "cell_type": "markdown",
   "id": "2801d81f-fc50-4a9a-a586-c936c19d4139",
   "metadata": {},
   "source": [
    "The new column of values in our pandas.DataFrame that shows the E value for the sequences."
   ]
  },
  {
   "cell_type": "code",
   "execution_count": 11,
   "id": "71e8d521-a983-41f0-bcf5-617d30045966",
   "metadata": {},
   "outputs": [
    {
     "data": {
      "application/vnd.jupyter.widget-view+json": {
       "model_id": "19f15e60875e4e388e6d711739044d33",
       "version_major": 2,
       "version_minor": 0
      },
      "text/plain": [
       "VBox(children=(HBox(children=(IntProgress(value=0, description='0.00%', max=13), Label(value='0 / 13'))), HBox…"
      ]
     },
     "metadata": {},
     "output_type": "display_data"
    },
    {
     "name": "stderr",
     "output_type": "stream",
     "text": [
      "/tmp/ipykernel_19178/1610342582.py:2: SettingWithCopyWarning: \n",
      "A value is trying to be set on a copy of a slice from a DataFrame.\n",
      "Try using .loc[row_indexer,col_indexer] = value instead\n",
      "\n",
      "See the caveats in the documentation: https://pandas.pydata.org/pandas-docs/stable/user_guide/indexing.html#returning-a-view-versus-a-copy\n",
      "  aa_df['E Value'] = aa_df['Sequence'].parallel_apply(lambda seq2: jaccard_similarity(list(endo_transl), list(seq2)))\n",
      "/tmp/ipykernel_19178/1610342582.py:7: SettingWithCopyWarning: \n",
      "A value is trying to be set on a copy of a slice from a DataFrame\n",
      "\n",
      "See the caveats in the documentation: https://pandas.pydata.org/pandas-docs/stable/user_guide/indexing.html#returning-a-view-versus-a-copy\n",
      "  aa_df.sort_values(by=['E Value'],  inplace = True, ascending=True)\n"
     ]
    },
    {
     "data": {
      "text/html": [
       "<div>\n",
       "<style scoped>\n",
       "    .dataframe tbody tr th:only-of-type {\n",
       "        vertical-align: middle;\n",
       "    }\n",
       "\n",
       "    .dataframe tbody tr th {\n",
       "        vertical-align: top;\n",
       "    }\n",
       "\n",
       "    .dataframe thead th {\n",
       "        text-align: right;\n",
       "    }\n",
       "</style>\n",
       "<table border=\"1\" class=\"dataframe\">\n",
       "  <thead>\n",
       "    <tr style=\"text-align: right;\">\n",
       "      <th></th>\n",
       "      <th>ID Name</th>\n",
       "      <th>Sequence</th>\n",
       "      <th>PyAlign Alignment Score</th>\n",
       "      <th>E Value</th>\n",
       "      <th>Description</th>\n",
       "    </tr>\n",
       "  </thead>\n",
       "  <tbody>\n",
       "    <tr>\n",
       "      <th>0</th>\n",
       "      <td>AKI72104</td>\n",
       "      <td>MPANFTEGSFDSSGTGQTLDSSPVACTETVTFTEVVEGKEWGSFYY...</td>\n",
       "      <td>377.0</td>\n",
       "      <td>0.0</td>\n",
       "      <td>NPSR1, partial [synthetic construct]</td>\n",
       "    </tr>\n",
       "    <tr>\n",
       "      <th>58</th>\n",
       "      <td>XP_054352661</td>\n",
       "      <td>MPANFTEGSFDSSGTGQTLDSSPVACTETVTFTEVVEGKEWGSFYY...</td>\n",
       "      <td>282.0</td>\n",
       "      <td>0.0</td>\n",
       "      <td>neuropeptide S receptor isoform X5 [Pongo pygm...</td>\n",
       "    </tr>\n",
       "    <tr>\n",
       "      <th>45</th>\n",
       "      <td>XP_055149426</td>\n",
       "      <td>MPANFTEGSFDSSGTGQTLDSSPVACTDTVTFTEVVEGKEWGSFYY...</td>\n",
       "      <td>282.0</td>\n",
       "      <td>0.0</td>\n",
       "      <td>neuropeptide S receptor isoform X4 [Symphalang...</td>\n",
       "    </tr>\n",
       "    <tr>\n",
       "      <th>33</th>\n",
       "      <td>XP_001365641</td>\n",
       "      <td>MQVNGTEGGRAVNGTMEPLDAQPLDTCAETVTSPEGAEQEEWGSFY...</td>\n",
       "      <td>294.0</td>\n",
       "      <td>0.0</td>\n",
       "      <td>neuropeptide S receptor [Monodelphis domestica]</td>\n",
       "    </tr>\n",
       "    <tr>\n",
       "      <th>89</th>\n",
       "      <td>XP_024418833</td>\n",
       "      <td>MPASLTEGSPNTTETAQTPDSQAAACFPTSFTEVVEEEAWGSFYSS...</td>\n",
       "      <td>298.0</td>\n",
       "      <td>0.0</td>\n",
       "      <td>neuropeptide S receptor [Desmodus rotundus]</td>\n",
       "    </tr>\n",
       "  </tbody>\n",
       "</table>\n",
       "</div>"
      ],
      "text/plain": [
       "         ID Name                                           Sequence  \\\n",
       "0       AKI72104  MPANFTEGSFDSSGTGQTLDSSPVACTETVTFTEVVEGKEWGSFYY...   \n",
       "58  XP_054352661  MPANFTEGSFDSSGTGQTLDSSPVACTETVTFTEVVEGKEWGSFYY...   \n",
       "45  XP_055149426  MPANFTEGSFDSSGTGQTLDSSPVACTDTVTFTEVVEGKEWGSFYY...   \n",
       "33  XP_001365641  MQVNGTEGGRAVNGTMEPLDAQPLDTCAETVTSPEGAEQEEWGSFY...   \n",
       "89  XP_024418833  MPASLTEGSPNTTETAQTPDSQAAACFPTSFTEVVEEEAWGSFYSS...   \n",
       "\n",
       "    PyAlign Alignment Score  E Value  \\\n",
       "0                     377.0      0.0   \n",
       "58                    282.0      0.0   \n",
       "45                    282.0      0.0   \n",
       "33                    294.0      0.0   \n",
       "89                    298.0      0.0   \n",
       "\n",
       "                                          Description  \n",
       "0                NPSR1, partial [synthetic construct]  \n",
       "58  neuropeptide S receptor isoform X5 [Pongo pygm...  \n",
       "45  neuropeptide S receptor isoform X4 [Symphalang...  \n",
       "33    neuropeptide S receptor [Monodelphis domestica]  \n",
       "89        neuropeptide S receptor [Desmodus rotundus]  "
      ]
     },
     "execution_count": 11,
     "metadata": {},
     "output_type": "execute_result"
    }
   ],
   "source": [
    "start = time.monotonic()\n",
    "aa_df['E Value'] = aa_df['Sequence'].parallel_apply(lambda seq2: jaccard_similarity(list(endo_transl), list(seq2)))\n",
    "stop = time.monotonic()\n",
    "aa_functions.append('E Value')\n",
    "aa_bar_num.append(10)\n",
    "aa_tot_time.append(stop-start)\n",
    "aa_df.sort_values(by=['E Value'],  inplace = True, ascending=True)\n",
    "aa_df = aa_df[['ID Name','Sequence', 'PyAlign Alignment Score','E Value', 'Description']]\n",
    "aa_df.head()"
   ]
  },
  {
   "cell_type": "markdown",
   "id": "9725782f-70bc-41ef-aedb-ac8d5f320ff9",
   "metadata": {},
   "source": [
    "For this new column in the pandas dataframe created from parallel_apply, we will use the sequencing coverage percentage which provides the percentage of coverage of the aligned sequence reads. The final protein dataframe output shows the alignment, E value, and percentage coverage ordered by percentage coverage and E value. The best matches line up with the query sequence."
   ]
  },
  {
   "cell_type": "code",
   "execution_count": 12,
   "id": "e4f8f457-1197-4aed-8adf-4523b5684993",
   "metadata": {},
   "outputs": [
    {
     "data": {
      "application/vnd.jupyter.widget-view+json": {
       "model_id": "82df00b2f48544d38b014df05c86dd32",
       "version_major": 2,
       "version_minor": 0
      },
      "text/plain": [
       "VBox(children=(HBox(children=(IntProgress(value=0, description='0.00%', max=13), Label(value='0 / 13'))), HBox…"
      ]
     },
     "metadata": {},
     "output_type": "display_data"
    },
    {
     "data": {
      "text/html": [
       "<div>\n",
       "<style scoped>\n",
       "    .dataframe tbody tr th:only-of-type {\n",
       "        vertical-align: middle;\n",
       "    }\n",
       "\n",
       "    .dataframe tbody tr th {\n",
       "        vertical-align: top;\n",
       "    }\n",
       "\n",
       "    .dataframe thead th {\n",
       "        text-align: right;\n",
       "    }\n",
       "</style>\n",
       "<table border=\"1\" class=\"dataframe\">\n",
       "  <thead>\n",
       "    <tr style=\"text-align: right;\">\n",
       "      <th></th>\n",
       "      <th>ID Name</th>\n",
       "      <th>Sequence</th>\n",
       "      <th>PyAlign Alignment Score</th>\n",
       "      <th>E Value</th>\n",
       "      <th>Percentage Coverage</th>\n",
       "      <th>Description</th>\n",
       "    </tr>\n",
       "  </thead>\n",
       "  <tbody>\n",
       "    <tr>\n",
       "      <th>0</th>\n",
       "      <td>AKI72104</td>\n",
       "      <td>MPANFTEGSFDSSGTGQTLDSSPVACTETVTFTEVVEGKEWGSFYY...</td>\n",
       "      <td>377.0</td>\n",
       "      <td>0.000000</td>\n",
       "      <td>100.000000</td>\n",
       "      <td>NPSR1, partial [synthetic construct]</td>\n",
       "    </tr>\n",
       "    <tr>\n",
       "      <th>40</th>\n",
       "      <td>XP_004045349</td>\n",
       "      <td>MPANFTEGSFDSSGTGQTLDSSPVACTETVTFTEVVEGKEWGSFYY...</td>\n",
       "      <td>373.0</td>\n",
       "      <td>0.000000</td>\n",
       "      <td>98.938992</td>\n",
       "      <td>neuropeptide S receptor isoform X2 [Gorilla go...</td>\n",
       "    </tr>\n",
       "    <tr>\n",
       "      <th>32</th>\n",
       "      <td>XP_003812004</td>\n",
       "      <td>MPANFTEGSFDSSGTGQTLDSSPVACTETVTFTEVVEGKEWGSFYY...</td>\n",
       "      <td>372.0</td>\n",
       "      <td>0.000000</td>\n",
       "      <td>98.673740</td>\n",
       "      <td>neuropeptide S receptor isoform X1 [Pan paniscus]</td>\n",
       "    </tr>\n",
       "    <tr>\n",
       "      <th>62</th>\n",
       "      <td>XP_054352657</td>\n",
       "      <td>MPANFTEGSFDSSGTGQTLDSSPVACTETVTFTEVVEGKEWGSFYY...</td>\n",
       "      <td>371.0</td>\n",
       "      <td>0.000000</td>\n",
       "      <td>98.408488</td>\n",
       "      <td>neuropeptide S receptor isoform X1 [Pongo pygm...</td>\n",
       "    </tr>\n",
       "    <tr>\n",
       "      <th>57</th>\n",
       "      <td>XP_024105546</td>\n",
       "      <td>MPANFTEGSFDSSGTGQTLDSSPVACTETVTFTEVVEGKEWGSFYY...</td>\n",
       "      <td>370.0</td>\n",
       "      <td>0.000000</td>\n",
       "      <td>98.143236</td>\n",
       "      <td>neuropeptide S receptor isoform X1 [Pongo abelii]</td>\n",
       "    </tr>\n",
       "    <tr>\n",
       "      <th>...</th>\n",
       "      <td>...</td>\n",
       "      <td>...</td>\n",
       "      <td>...</td>\n",
       "      <td>...</td>\n",
       "      <td>...</td>\n",
       "      <td>...</td>\n",
       "    </tr>\n",
       "    <tr>\n",
       "      <th>69</th>\n",
       "      <td>XP_053074217</td>\n",
       "      <td>MAPDLVCRVVRYLQVVLLYASTYVLVSLSIDRYHAIVYPMKFLQGE...</td>\n",
       "      <td>221.0</td>\n",
       "      <td>0.000000</td>\n",
       "      <td>58.620690</td>\n",
       "      <td>neuropeptide S receptor [Acinonyx jubatus]</td>\n",
       "    </tr>\n",
       "    <tr>\n",
       "      <th>71</th>\n",
       "      <td>XP_053074215</td>\n",
       "      <td>MAPDLVCRVVRYLQVVLLYASTYVLVSLSIDRYHAIVYPMKFLQGE...</td>\n",
       "      <td>221.0</td>\n",
       "      <td>0.000000</td>\n",
       "      <td>58.620690</td>\n",
       "      <td>neuropeptide S receptor [Acinonyx jubatus]</td>\n",
       "    </tr>\n",
       "    <tr>\n",
       "      <th>70</th>\n",
       "      <td>XP_053074216</td>\n",
       "      <td>MAPDLVCRVVRYLQVVLLYASTYVLVSLSIDRYHAIVYPMKFLQGE...</td>\n",
       "      <td>221.0</td>\n",
       "      <td>0.000000</td>\n",
       "      <td>58.620690</td>\n",
       "      <td>neuropeptide S receptor [Acinonyx jubatus]</td>\n",
       "    </tr>\n",
       "    <tr>\n",
       "      <th>64</th>\n",
       "      <td>XP_017168907</td>\n",
       "      <td>MKFLQGEKQAKVLIGIAWSLSFLFSIPTLIIFGKRTLSNGEVQCWA...</td>\n",
       "      <td>183.0</td>\n",
       "      <td>0.000000</td>\n",
       "      <td>48.541114</td>\n",
       "      <td>neuropeptide S receptor isoform X2 [Mus musculus]</td>\n",
       "    </tr>\n",
       "    <tr>\n",
       "      <th>100</th>\n",
       "      <td>XP_049637696</td>\n",
       "      <td>MPPVWSNCEVLLTSLALIMFTPSVLMSTSCKLSHADGSELRQNSKS...</td>\n",
       "      <td>172.0</td>\n",
       "      <td>0.047619</td>\n",
       "      <td>45.623342</td>\n",
       "      <td>LOW QUALITY PROTEIN: neuropeptide S receptor [...</td>\n",
       "    </tr>\n",
       "  </tbody>\n",
       "</table>\n",
       "<p>101 rows × 6 columns</p>\n",
       "</div>"
      ],
      "text/plain": [
       "          ID Name                                           Sequence  \\\n",
       "0        AKI72104  MPANFTEGSFDSSGTGQTLDSSPVACTETVTFTEVVEGKEWGSFYY...   \n",
       "40   XP_004045349  MPANFTEGSFDSSGTGQTLDSSPVACTETVTFTEVVEGKEWGSFYY...   \n",
       "32   XP_003812004  MPANFTEGSFDSSGTGQTLDSSPVACTETVTFTEVVEGKEWGSFYY...   \n",
       "62   XP_054352657  MPANFTEGSFDSSGTGQTLDSSPVACTETVTFTEVVEGKEWGSFYY...   \n",
       "57   XP_024105546  MPANFTEGSFDSSGTGQTLDSSPVACTETVTFTEVVEGKEWGSFYY...   \n",
       "..            ...                                                ...   \n",
       "69   XP_053074217  MAPDLVCRVVRYLQVVLLYASTYVLVSLSIDRYHAIVYPMKFLQGE...   \n",
       "71   XP_053074215  MAPDLVCRVVRYLQVVLLYASTYVLVSLSIDRYHAIVYPMKFLQGE...   \n",
       "70   XP_053074216  MAPDLVCRVVRYLQVVLLYASTYVLVSLSIDRYHAIVYPMKFLQGE...   \n",
       "64   XP_017168907  MKFLQGEKQAKVLIGIAWSLSFLFSIPTLIIFGKRTLSNGEVQCWA...   \n",
       "100  XP_049637696  MPPVWSNCEVLLTSLALIMFTPSVLMSTSCKLSHADGSELRQNSKS...   \n",
       "\n",
       "     PyAlign Alignment Score   E Value  Percentage Coverage  \\\n",
       "0                      377.0  0.000000           100.000000   \n",
       "40                     373.0  0.000000            98.938992   \n",
       "32                     372.0  0.000000            98.673740   \n",
       "62                     371.0  0.000000            98.408488   \n",
       "57                     370.0  0.000000            98.143236   \n",
       "..                       ...       ...                  ...   \n",
       "69                     221.0  0.000000            58.620690   \n",
       "71                     221.0  0.000000            58.620690   \n",
       "70                     221.0  0.000000            58.620690   \n",
       "64                     183.0  0.000000            48.541114   \n",
       "100                    172.0  0.047619            45.623342   \n",
       "\n",
       "                                           Description  \n",
       "0                 NPSR1, partial [synthetic construct]  \n",
       "40   neuropeptide S receptor isoform X2 [Gorilla go...  \n",
       "32   neuropeptide S receptor isoform X1 [Pan paniscus]  \n",
       "62   neuropeptide S receptor isoform X1 [Pongo pygm...  \n",
       "57   neuropeptide S receptor isoform X1 [Pongo abelii]  \n",
       "..                                                 ...  \n",
       "69          neuropeptide S receptor [Acinonyx jubatus]  \n",
       "71          neuropeptide S receptor [Acinonyx jubatus]  \n",
       "70          neuropeptide S receptor [Acinonyx jubatus]  \n",
       "64   neuropeptide S receptor isoform X2 [Mus musculus]  \n",
       "100  LOW QUALITY PROTEIN: neuropeptide S receptor [...  \n",
       "\n",
       "[101 rows x 6 columns]"
      ]
     },
     "execution_count": 12,
     "metadata": {},
     "output_type": "execute_result"
    }
   ],
   "source": [
    "start = time.monotonic()\n",
    "aa_df['Percentage Coverage'] = aa_df['PyAlign Alignment Score'].parallel_apply(lambda match: 100*(float(match/len(endo_transl))))\n",
    "stop = time.monotonic()\n",
    "aa_functions.append('Percentage Coverage')\n",
    "aa_bar_num.append(10)\n",
    "aa_tot_time.append(stop-start)\n",
    "aa_df.sort_values(by=['Percentage Coverage'],  inplace = True, ascending=False)\n",
    "aa_df = aa_df[['ID Name','Sequence', 'PyAlign Alignment Score','E Value', 'Percentage Coverage', 'Description']]\n",
    "aa_df"
   ]
  },
  {
   "cell_type": "markdown",
   "id": "722ab88d-9444-4b77-bf3e-4b46c6ad9bcd",
   "metadata": {},
   "source": [
    "The time for the pandarallel parallel_apply for the respective applications is displayed in the pandas dataframe below.  "
   ]
  },
  {
   "cell_type": "code",
   "execution_count": 13,
   "id": "d6617ea4-4fdb-43d5-bedd-096b672d02d9",
   "metadata": {},
   "outputs": [
    {
     "data": {
      "text/html": [
       "<div>\n",
       "<style scoped>\n",
       "    .dataframe tbody tr th:only-of-type {\n",
       "        vertical-align: middle;\n",
       "    }\n",
       "\n",
       "    .dataframe tbody tr th {\n",
       "        vertical-align: top;\n",
       "    }\n",
       "\n",
       "    .dataframe thead th {\n",
       "        text-align: right;\n",
       "    }\n",
       "</style>\n",
       "<table border=\"1\" class=\"dataframe\">\n",
       "  <thead>\n",
       "    <tr style=\"text-align: right;\">\n",
       "      <th></th>\n",
       "      <th>Pandarallel Function</th>\n",
       "      <th>Number of Bars</th>\n",
       "      <th>Time</th>\n",
       "    </tr>\n",
       "  </thead>\n",
       "  <tbody>\n",
       "    <tr>\n",
       "      <th>0</th>\n",
       "      <td>PyAlign Alignment Score</td>\n",
       "      <td>10</td>\n",
       "      <td>7.031509</td>\n",
       "    </tr>\n",
       "    <tr>\n",
       "      <th>1</th>\n",
       "      <td>E Value</td>\n",
       "      <td>10</td>\n",
       "      <td>6.835784</td>\n",
       "    </tr>\n",
       "    <tr>\n",
       "      <th>2</th>\n",
       "      <td>Percentage Coverage</td>\n",
       "      <td>10</td>\n",
       "      <td>7.396781</td>\n",
       "    </tr>\n",
       "    <tr>\n",
       "      <th>3</th>\n",
       "      <td>Total Time for All Dragon Multiprocessing Pand...</td>\n",
       "      <td>N/A</td>\n",
       "      <td>21.264074</td>\n",
       "    </tr>\n",
       "  </tbody>\n",
       "</table>\n",
       "</div>"
      ],
      "text/plain": [
       "                                Pandarallel Function Number of Bars       Time\n",
       "0                            PyAlign Alignment Score             10   7.031509\n",
       "1                                            E Value             10   6.835784\n",
       "2                                Percentage Coverage             10   7.396781\n",
       "3  Total Time for All Dragon Multiprocessing Pand...            N/A  21.264074"
      ]
     },
     "execution_count": 13,
     "metadata": {},
     "output_type": "execute_result"
    }
   ],
   "source": [
    "std_time_df = pd.DataFrame(list(zip(aa_functions, aa_bar_num, aa_tot_time)), columns=['Pandarallel Function','Number of Bars', 'Time'])\n",
    "std_time_sum = std_time_df['Time'].sum()\n",
    "std_time_df.loc[len(std_time_df.index)] = ['Total Time for All Dragon Multiprocessing Pandarallel Processes (Amino Acids)', \"N/A\", std_time_sum]\n",
    "std_time_df"
   ]
  },
  {
   "cell_type": "markdown",
   "id": "17d48d6d-d4a6-477e-adb0-3a40ea5d1748",
   "metadata": {},
   "source": [
    "The correlation for the variables in the nucleotide pandas dataframe are plotted, and the variables for k-means clustering are identified."
   ]
  },
  {
   "cell_type": "code",
   "execution_count": 14,
   "id": "07087b2c-795b-4667-8379-2ba86e88630d",
   "metadata": {},
   "outputs": [
    {
     "name": "stderr",
     "output_type": "stream",
     "text": [
      "/cray/css/users/ghorakav/dragon_31032022/hpc-pe-dragon-dragon/_env/lib/python3.9/site-packages/seaborn/_oldcore.py:1498: FutureWarning: is_categorical_dtype is deprecated and will be removed in a future version. Use isinstance(dtype, CategoricalDtype) instead\n",
      "  if pd.api.types.is_categorical_dtype(vector):\n",
      "/cray/css/users/ghorakav/dragon_31032022/hpc-pe-dragon-dragon/_env/lib/python3.9/site-packages/seaborn/_oldcore.py:1498: FutureWarning: is_categorical_dtype is deprecated and will be removed in a future version. Use isinstance(dtype, CategoricalDtype) instead\n",
      "  if pd.api.types.is_categorical_dtype(vector):\n",
      "/cray/css/users/ghorakav/dragon_31032022/hpc-pe-dragon-dragon/_env/lib/python3.9/site-packages/seaborn/_oldcore.py:1498: FutureWarning: is_categorical_dtype is deprecated and will be removed in a future version. Use isinstance(dtype, CategoricalDtype) instead\n",
      "  if pd.api.types.is_categorical_dtype(vector):\n",
      "/cray/css/users/ghorakav/dragon_31032022/hpc-pe-dragon-dragon/_env/lib/python3.9/site-packages/seaborn/_oldcore.py:1498: FutureWarning: is_categorical_dtype is deprecated and will be removed in a future version. Use isinstance(dtype, CategoricalDtype) instead\n",
      "  if pd.api.types.is_categorical_dtype(vector):\n",
      "/cray/css/users/ghorakav/dragon_31032022/hpc-pe-dragon-dragon/_env/lib/python3.9/site-packages/seaborn/_oldcore.py:1498: FutureWarning: is_categorical_dtype is deprecated and will be removed in a future version. Use isinstance(dtype, CategoricalDtype) instead\n",
      "  if pd.api.types.is_categorical_dtype(vector):\n",
      "/cray/css/users/ghorakav/dragon_31032022/hpc-pe-dragon-dragon/_env/lib/python3.9/site-packages/seaborn/_oldcore.py:1498: FutureWarning: is_categorical_dtype is deprecated and will be removed in a future version. Use isinstance(dtype, CategoricalDtype) instead\n",
      "  if pd.api.types.is_categorical_dtype(vector):\n",
      "/cray/css/users/ghorakav/dragon_31032022/hpc-pe-dragon-dragon/_env/lib/python3.9/site-packages/seaborn/_oldcore.py:1498: FutureWarning: is_categorical_dtype is deprecated and will be removed in a future version. Use isinstance(dtype, CategoricalDtype) instead\n",
      "  if pd.api.types.is_categorical_dtype(vector):\n",
      "/cray/css/users/ghorakav/dragon_31032022/hpc-pe-dragon-dragon/_env/lib/python3.9/site-packages/seaborn/_oldcore.py:1498: FutureWarning: is_categorical_dtype is deprecated and will be removed in a future version. Use isinstance(dtype, CategoricalDtype) instead\n",
      "  if pd.api.types.is_categorical_dtype(vector):\n",
      "/cray/css/users/ghorakav/dragon_31032022/hpc-pe-dragon-dragon/_env/lib/python3.9/site-packages/seaborn/_oldcore.py:1498: FutureWarning: is_categorical_dtype is deprecated and will be removed in a future version. Use isinstance(dtype, CategoricalDtype) instead\n",
      "  if pd.api.types.is_categorical_dtype(vector):\n",
      "/cray/css/users/ghorakav/dragon_31032022/hpc-pe-dragon-dragon/_env/lib/python3.9/site-packages/seaborn/_oldcore.py:1498: FutureWarning: is_categorical_dtype is deprecated and will be removed in a future version. Use isinstance(dtype, CategoricalDtype) instead\n",
      "  if pd.api.types.is_categorical_dtype(vector):\n",
      "/cray/css/users/ghorakav/dragon_31032022/hpc-pe-dragon-dragon/_env/lib/python3.9/site-packages/seaborn/_oldcore.py:1498: FutureWarning: is_categorical_dtype is deprecated and will be removed in a future version. Use isinstance(dtype, CategoricalDtype) instead\n",
      "  if pd.api.types.is_categorical_dtype(vector):\n",
      "/cray/css/users/ghorakav/dragon_31032022/hpc-pe-dragon-dragon/_env/lib/python3.9/site-packages/seaborn/_oldcore.py:1498: FutureWarning: is_categorical_dtype is deprecated and will be removed in a future version. Use isinstance(dtype, CategoricalDtype) instead\n",
      "  if pd.api.types.is_categorical_dtype(vector):\n",
      "/cray/css/users/ghorakav/dragon_31032022/hpc-pe-dragon-dragon/_env/lib/python3.9/site-packages/seaborn/_oldcore.py:1498: FutureWarning: is_categorical_dtype is deprecated and will be removed in a future version. Use isinstance(dtype, CategoricalDtype) instead\n",
      "  if pd.api.types.is_categorical_dtype(vector):\n",
      "/cray/css/users/ghorakav/dragon_31032022/hpc-pe-dragon-dragon/_env/lib/python3.9/site-packages/seaborn/_oldcore.py:1498: FutureWarning: is_categorical_dtype is deprecated and will be removed in a future version. Use isinstance(dtype, CategoricalDtype) instead\n",
      "  if pd.api.types.is_categorical_dtype(vector):\n",
      "/cray/css/users/ghorakav/dragon_31032022/hpc-pe-dragon-dragon/_env/lib/python3.9/site-packages/seaborn/_oldcore.py:1498: FutureWarning: is_categorical_dtype is deprecated and will be removed in a future version. Use isinstance(dtype, CategoricalDtype) instead\n",
      "  if pd.api.types.is_categorical_dtype(vector):\n",
      "/cray/css/users/ghorakav/dragon_31032022/hpc-pe-dragon-dragon/_env/lib/python3.9/site-packages/seaborn/_oldcore.py:1498: FutureWarning: is_categorical_dtype is deprecated and will be removed in a future version. Use isinstance(dtype, CategoricalDtype) instead\n",
      "  if pd.api.types.is_categorical_dtype(vector):\n",
      "/cray/css/users/ghorakav/dragon_31032022/hpc-pe-dragon-dragon/_env/lib/python3.9/site-packages/seaborn/_oldcore.py:1498: FutureWarning: is_categorical_dtype is deprecated and will be removed in a future version. Use isinstance(dtype, CategoricalDtype) instead\n",
      "  if pd.api.types.is_categorical_dtype(vector):\n",
      "/cray/css/users/ghorakav/dragon_31032022/hpc-pe-dragon-dragon/_env/lib/python3.9/site-packages/seaborn/_oldcore.py:1498: FutureWarning: is_categorical_dtype is deprecated and will be removed in a future version. Use isinstance(dtype, CategoricalDtype) instead\n",
      "  if pd.api.types.is_categorical_dtype(vector):\n",
      "/cray/css/users/ghorakav/dragon_31032022/hpc-pe-dragon-dragon/_env/lib/python3.9/site-packages/seaborn/_oldcore.py:1498: FutureWarning: is_categorical_dtype is deprecated and will be removed in a future version. Use isinstance(dtype, CategoricalDtype) instead\n",
      "  if pd.api.types.is_categorical_dtype(vector):\n",
      "/cray/css/users/ghorakav/dragon_31032022/hpc-pe-dragon-dragon/_env/lib/python3.9/site-packages/seaborn/_oldcore.py:1498: FutureWarning: is_categorical_dtype is deprecated and will be removed in a future version. Use isinstance(dtype, CategoricalDtype) instead\n",
      "  if pd.api.types.is_categorical_dtype(vector):\n",
      "/cray/css/users/ghorakav/dragon_31032022/hpc-pe-dragon-dragon/_env/lib/python3.9/site-packages/seaborn/_oldcore.py:1498: FutureWarning: is_categorical_dtype is deprecated and will be removed in a future version. Use isinstance(dtype, CategoricalDtype) instead\n",
      "  if pd.api.types.is_categorical_dtype(vector):\n",
      "/cray/css/users/ghorakav/dragon_31032022/hpc-pe-dragon-dragon/_env/lib/python3.9/site-packages/seaborn/_oldcore.py:1498: FutureWarning: is_categorical_dtype is deprecated and will be removed in a future version. Use isinstance(dtype, CategoricalDtype) instead\n",
      "  if pd.api.types.is_categorical_dtype(vector):\n",
      "/cray/css/users/ghorakav/dragon_31032022/hpc-pe-dragon-dragon/_env/lib/python3.9/site-packages/seaborn/_oldcore.py:1498: FutureWarning: is_categorical_dtype is deprecated and will be removed in a future version. Use isinstance(dtype, CategoricalDtype) instead\n",
      "  if pd.api.types.is_categorical_dtype(vector):\n",
      "/cray/css/users/ghorakav/dragon_31032022/hpc-pe-dragon-dragon/_env/lib/python3.9/site-packages/seaborn/_oldcore.py:1498: FutureWarning: is_categorical_dtype is deprecated and will be removed in a future version. Use isinstance(dtype, CategoricalDtype) instead\n",
      "  if pd.api.types.is_categorical_dtype(vector):\n"
     ]
    },
    {
     "data": {
      "image/png": "[encoded data removed]",
      "text/plain": [
       "<Figure size 750x750 with 9 Axes>"
      ]
     },
     "metadata": {},
     "output_type": "display_data"
    }
   ],
   "source": [
    "sns.PairGrid(aa_df).map(sns.scatterplot);"
   ]
  },
  {
   "cell_type": "markdown",
   "id": "ff9ea8a9-e72f-4794-a37a-edf034bed53a",
   "metadata": {},
   "source": [
    "The x-axis is the PyAlign Alignment Score, and the y-axis is percentage coverage. The scatterplot function from the seaborn library is used for k-means clustering using the variables identified."
   ]
  },
  {
   "cell_type": "code",
   "execution_count": 15,
   "id": "e7c5a043-54bb-4b29-92ef-bc3eba46acc2",
   "metadata": {},
   "outputs": [
    {
     "name": "stderr",
     "output_type": "stream",
     "text": [
      "/cray/css/users/ghorakav/dragon_31032022/hpc-pe-dragon-dragon/_env/lib/python3.9/site-packages/seaborn/_oldcore.py:1498: FutureWarning: is_categorical_dtype is deprecated and will be removed in a future version. Use isinstance(dtype, CategoricalDtype) instead\n",
      "  if pd.api.types.is_categorical_dtype(vector):\n",
      "/cray/css/users/ghorakav/dragon_31032022/hpc-pe-dragon-dragon/_env/lib/python3.9/site-packages/seaborn/_oldcore.py:1498: FutureWarning: is_categorical_dtype is deprecated and will be removed in a future version. Use isinstance(dtype, CategoricalDtype) instead\n",
      "  if pd.api.types.is_categorical_dtype(vector):\n",
      "/cray/css/users/ghorakav/dragon_31032022/hpc-pe-dragon-dragon/_env/lib/python3.9/site-packages/seaborn/_oldcore.py:1498: FutureWarning: is_categorical_dtype is deprecated and will be removed in a future version. Use isinstance(dtype, CategoricalDtype) instead\n",
      "  if pd.api.types.is_categorical_dtype(vector):\n"
     ]
    },
    {
     "data": {
      "text/plain": [
       "<Axes: xlabel='PyAlign Alignment Score', ylabel='Percentage Coverage'>"
      ]
     },
     "execution_count": 15,
     "metadata": {},
     "output_type": "execute_result"
    },
    {
     "data": {
      "image/png": "[encoded data removed]",
      "text/plain": [
       "<Figure size 640x480 with 1 Axes>"
      ]
     },
     "metadata": {},
     "output_type": "display_data"
    }
   ],
   "source": [
    "sns.scatterplot(data = aa_df[['PyAlign Alignment Score', 'E Value', 'Percentage Coverage']], x = 'PyAlign Alignment Score', y = 'Percentage Coverage', hue = 'E Value')"
   ]
  },
  {
   "cell_type": "markdown",
   "id": "101e6c40-0af4-403f-a411-c28c3f84405c",
   "metadata": {},
   "source": [
    "The cluster number is determined from the elbow method and the default arguments for the k-means algorithm."
   ]
  },
  {
   "cell_type": "code",
   "execution_count": 16,
   "id": "d277321f-81f1-4c6d-9af6-32cdb05f31fc",
   "metadata": {},
   "outputs": [
    {
     "name": "stderr",
     "output_type": "stream",
     "text": [
      "/cray/css/users/ghorakav/dragon_31032022/hpc-pe-dragon-dragon/_env/lib/python3.9/site-packages/sklearn/cluster/_kmeans.py:1412: FutureWarning: The default value of `n_init` will change from 10 to 'auto' in 1.4. Set the value of `n_init` explicitly to suppress the warning\n",
      "  super()._check_params_vs_input(X, default_n_init=10)\n",
      "/cray/css/users/ghorakav/dragon_31032022/hpc-pe-dragon-dragon/_env/lib/python3.9/site-packages/sklearn/cluster/_kmeans.py:1412: FutureWarning: The default value of `n_init` will change from 10 to 'auto' in 1.4. Set the value of `n_init` explicitly to suppress the warning\n",
      "  super()._check_params_vs_input(X, default_n_init=10)\n",
      "/cray/css/users/ghorakav/dragon_31032022/hpc-pe-dragon-dragon/_env/lib/python3.9/site-packages/sklearn/cluster/_kmeans.py:1412: FutureWarning: The default value of `n_init` will change from 10 to 'auto' in 1.4. Set the value of `n_init` explicitly to suppress the warning\n",
      "  super()._check_params_vs_input(X, default_n_init=10)\n",
      "/cray/css/users/ghorakav/dragon_31032022/hpc-pe-dragon-dragon/_env/lib/python3.9/site-packages/sklearn/cluster/_kmeans.py:1412: FutureWarning: The default value of `n_init` will change from 10 to 'auto' in 1.4. Set the value of `n_init` explicitly to suppress the warning\n",
      "  super()._check_params_vs_input(X, default_n_init=10)\n",
      "/cray/css/users/ghorakav/dragon_31032022/hpc-pe-dragon-dragon/_env/lib/python3.9/site-packages/sklearn/cluster/_kmeans.py:1412: FutureWarning: The default value of `n_init` will change from 10 to 'auto' in 1.4. Set the value of `n_init` explicitly to suppress the warning\n",
      "  super()._check_params_vs_input(X, default_n_init=10)\n",
      "/cray/css/users/ghorakav/dragon_31032022/hpc-pe-dragon-dragon/_env/lib/python3.9/site-packages/sklearn/cluster/_kmeans.py:1412: FutureWarning: The default value of `n_init` will change from 10 to 'auto' in 1.4. Set the value of `n_init` explicitly to suppress the warning\n",
      "  super()._check_params_vs_input(X, default_n_init=10)\n",
      "/cray/css/users/ghorakav/dragon_31032022/hpc-pe-dragon-dragon/_env/lib/python3.9/site-packages/sklearn/cluster/_kmeans.py:1412: FutureWarning: The default value of `n_init` will change from 10 to 'auto' in 1.4. Set the value of `n_init` explicitly to suppress the warning\n",
      "  super()._check_params_vs_input(X, default_n_init=10)\n",
      "/cray/css/users/ghorakav/dragon_31032022/hpc-pe-dragon-dragon/_env/lib/python3.9/site-packages/sklearn/cluster/_kmeans.py:1412: FutureWarning: The default value of `n_init` will change from 10 to 'auto' in 1.4. Set the value of `n_init` explicitly to suppress the warning\n",
      "  super()._check_params_vs_input(X, default_n_init=10)\n",
      "/cray/css/users/ghorakav/dragon_31032022/hpc-pe-dragon-dragon/_env/lib/python3.9/site-packages/sklearn/cluster/_kmeans.py:1412: FutureWarning: The default value of `n_init` will change from 10 to 'auto' in 1.4. Set the value of `n_init` explicitly to suppress the warning\n",
      "  super()._check_params_vs_input(X, default_n_init=10)\n"
     ]
    },
    {
     "data": {
      "image/png": "[encoded data removed]",
      "text/plain": [
       "<Figure size 640x480 with 1 Axes>"
      ]
     },
     "metadata": {},
     "output_type": "display_data"
    }
   ],
   "source": [
    "X = np.array(aa_df.loc[:,['PyAlign Alignment Score', 'Percentage Coverage']])\n",
    "\n",
    "euclidean = []\n",
    "for i in range(1, 10):\n",
    "    model = KMeans(n_clusters = i)\n",
    "    model.fit(X)                              \n",
    "    euclidean.append(model.inertia_)\n",
    "\n",
    "plt.plot(range(1, 10), euclidean)\n",
    "plt.xlabel('Cluster number')\n",
    "plt.ylabel('Euclidean Sum of Squares')\n",
    "plt.show()"
   ]
  },
  {
   "cell_type": "markdown",
   "id": "3663b986-a9f2-47f9-ae03-be4bbe16db63",
   "metadata": {},
   "source": [
    "The k-means algorithm is plotted, and the default arguments for the k-means algorithm is used. "
   ]
  },
  {
   "cell_type": "code",
   "execution_count": 17,
   "id": "2ade1ef8-2420-433e-9a67-7c564b722be0",
   "metadata": {},
   "outputs": [
    {
     "name": "stderr",
     "output_type": "stream",
     "text": [
      "/cray/css/users/ghorakav/dragon_31032022/hpc-pe-dragon-dragon/_env/lib/python3.9/site-packages/sklearn/cluster/_kmeans.py:1412: FutureWarning: The default value of `n_init` will change from 10 to 'auto' in 1.4. Set the value of `n_init` explicitly to suppress the warning\n",
      "  super()._check_params_vs_input(X, default_n_init=10)\n"
     ]
    },
    {
     "data": {
      "text/plain": [
       "<matplotlib.collections.PathCollection at 0x7fc418949a30>"
      ]
     },
     "execution_count": 17,
     "metadata": {},
     "output_type": "execute_result"
    },
    {
     "data": {
      "image/png": "[encoded data removed]",
      "text/plain": [
       "<Figure size 640x480 with 1 Axes>"
      ]
     },
     "metadata": {},
     "output_type": "display_data"
    }
   ],
   "source": [
    "model = KMeans(n_clusters=3).fit(X)\n",
    "plt.scatter(X[:,0], X[:,1], c=model.labels_.astype(float))"
   ]
  }
 ],
 "metadata": {
  "kernelspec": {
   "display_name": "Python 3 (ipykernel)",
   "language": "python",
   "name": "python3"
  },
  "language_info": {
   "codemirror_mode": {
    "name": "ipython",
    "version": 3
   },
   "file_extension": ".py",
   "mimetype": "text/x-python",
   "name": "python",
   "nbconvert_exporter": "python",
   "pygments_lexer": "ipython3",
   "version": "3.9.1+"
  }
 },
 "nbformat": 4,
 "nbformat_minor": 5
}
