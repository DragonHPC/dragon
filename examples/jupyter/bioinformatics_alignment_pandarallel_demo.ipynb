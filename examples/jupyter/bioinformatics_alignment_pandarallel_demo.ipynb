{
 "cells": [
  {
   "cell_type": "markdown",
   "metadata": {},
   "source": [
    "# Bioinformatics Alignment `pandarallel` Examples with Controlled Number of Progress Bars\n",
    "\n",
    "In the bioinformatics community, the `pandas` `DataFrame` is a popular tool for holding, manipulating, and performing computations on genomic sequence data and their associated properties.  For larger datasets, the need to parallelize operations on DataFrames motivates the need for tools such as `pandarallel`.  Because `pandarallel` is implemented against the standard Python `multiprocessing` library, this represents an opportunity for `dragon` to accelerate and enable greater scalability to users' code without necessarily requiring them to modify their code or patterns of thinking around their code.\n",
    "\n",
    "The example proposed uses a variant of NPSR1 linked to moderate/severe (stage III/IV) endometriosis, asthma, and sleep-related disorders. This variant is queried against a small dataset of nucleotide and protein sequences for the closest match. The closeness of the match is determined by the pairwise alignment, the E-value, and the percentage of match coverage. \n",
    "\n",
    "In a multi-node `dragon` execution configuration (which is _not_ demonstrated here), some nodes may be slower/faster than others and it may be helpful to see the relative progress/speed of one cluster's nodes versus others -- this motivates showing more than just a single progress bar representing all workers.\n",
    "\n",
    "The use case illustrates how parallel_apply from pandarallel is used for feature engineering for a k-means clustering use case. The features are commonly utilized in bioinformatics. "
   ]
  },
  {
   "cell_type": "code",
   "execution_count": 1,
   "metadata": {},
   "outputs": [
    {
     "name": "stdout",
     "output_type": "stream",
     "text": [
      "Looking in indexes: https://pypi.org/simple, https://pypi.ngc.nvidia.com\n",
      "Requirement already satisfied: pandarallel in /cray/css/users/ghorakav/dragon_31032022/hpc-pe-dragon-dragon/_env/lib/python3.9/site-packages (1.6.5)\n",
      "Requirement already satisfied: dill>=0.3.1 in /cray/css/users/ghorakav/dragon_31032022/hpc-pe-dragon-dragon/_env/lib/python3.9/site-packages (from pandarallel) (0.3.7)\n",
      "Requirement already satisfied: pandas>=1 in /cray/css/users/ghorakav/dragon_31032022/hpc-pe-dragon-dragon/_env/lib/python3.9/site-packages (from pandarallel) (2.1.1)\n",
      "Requirement already satisfied: psutil in /cray/css/users/ghorakav/dragon_31032022/hpc-pe-dragon-dragon/_env/lib/python3.9/site-packages (from pandarallel) (5.9.5)\n",
      "Requirement already satisfied: numpy>=1.22.4 in /cray/css/users/ghorakav/dragon_31032022/hpc-pe-dragon-dragon/_env/lib/python3.9/site-packages (from pandas>=1->pandarallel) (1.23.5)\n",
      "Requirement already satisfied: python-dateutil>=2.8.2 in /cray/css/users/ghorakav/dragon_31032022/hpc-pe-dragon-dragon/_env/lib/python3.9/site-packages (from pandas>=1->pandarallel) (2.8.2)\n",
      "Requirement already satisfied: pytz>=2020.1 in /cray/css/users/ghorakav/dragon_31032022/hpc-pe-dragon-dragon/_env/lib/python3.9/site-packages (from pandas>=1->pandarallel) (2023.3.post1)\n",
      "Requirement already satisfied: tzdata>=2022.1 in /cray/css/users/ghorakav/dragon_31032022/hpc-pe-dragon-dragon/_env/lib/python3.9/site-packages (from pandas>=1->pandarallel) (2023.3)\n",
      "Requirement already satisfied: six>=1.5 in /cray/css/users/ghorakav/dragon_31032022/hpc-pe-dragon-dragon/_env/lib/python3.9/site-packages (from python-dateutil>=2.8.2->pandas>=1->pandarallel) (1.16.0)\n",
      "Looking in indexes: https://pypi.org/simple, https://pypi.ngc.nvidia.com\n",
      "Requirement already satisfied: biopython in /cray/css/users/ghorakav/dragon_31032022/hpc-pe-dragon-dragon/_env/lib/python3.9/site-packages (1.81)\n",
      "Requirement already satisfied: numpy in /cray/css/users/ghorakav/dragon_31032022/hpc-pe-dragon-dragon/_env/lib/python3.9/site-packages (from biopython) (1.23.5)\n",
      "Looking in indexes: https://pypi.org/simple, https://pypi.ngc.nvidia.com\n",
      "Requirement already satisfied: pyalign in /cray/css/users/ghorakav/dragon_31032022/hpc-pe-dragon-dragon/_env/lib/python3.9/site-packages (0.4.4)\n",
      "Requirement already satisfied: numpy~=1.19 in /cray/css/users/ghorakav/dragon_31032022/hpc-pe-dragon-dragon/_env/lib/python3.9/site-packages (from pyalign) (1.23.5)\n",
      "Requirement already satisfied: pybind11~=2.6.2 in /cray/css/users/ghorakav/dragon_31032022/hpc-pe-dragon-dragon/_env/lib/python3.9/site-packages (from pyalign) (2.6.2)\n",
      "Requirement already satisfied: cached-property in /cray/css/users/ghorakav/dragon_31032022/hpc-pe-dragon-dragon/_env/lib/python3.9/site-packages (from pyalign) (1.5.2)\n",
      "Requirement already satisfied: py-cpuinfo==8.0.0 in /cray/css/users/ghorakav/dragon_31032022/hpc-pe-dragon-dragon/_env/lib/python3.9/site-packages (from pyalign) (8.0.0)\n",
      "Requirement already satisfied: pymorton==1.0.5 in /cray/css/users/ghorakav/dragon_31032022/hpc-pe-dragon-dragon/_env/lib/python3.9/site-packages (from pyalign) (1.0.5)\n",
      "Requirement already satisfied: pyyaml==6.0 in /cray/css/users/ghorakav/dragon_31032022/hpc-pe-dragon-dragon/_env/lib/python3.9/site-packages (from pyalign) (6.0)\n",
      "Requirement already satisfied: cpufeature==0.2.0 in /cray/css/users/ghorakav/dragon_31032022/hpc-pe-dragon-dragon/_env/lib/python3.9/site-packages (from pyalign) (0.2.0)\n",
      "Looking in indexes: https://pypi.org/simple, https://pypi.ngc.nvidia.com\n",
      "Requirement already satisfied: scikit-learn in /cray/css/users/ghorakav/dragon_31032022/hpc-pe-dragon-dragon/_env/lib/python3.9/site-packages (1.3.1)\n",
      "Requirement already satisfied: numpy<2.0,>=1.17.3 in /cray/css/users/ghorakav/dragon_31032022/hpc-pe-dragon-dragon/_env/lib/python3.9/site-packages (from scikit-learn) (1.23.5)\n",
      "Requirement already satisfied: scipy>=1.5.0 in /cray/css/users/ghorakav/dragon_31032022/hpc-pe-dragon-dragon/_env/lib/python3.9/site-packages (from scikit-learn) (1.9.3)\n",
      "Requirement already satisfied: joblib>=1.1.1 in /cray/css/users/ghorakav/dragon_31032022/hpc-pe-dragon-dragon/_env/lib/python3.9/site-packages (from scikit-learn) (1.3.2)\n",
      "Requirement already satisfied: threadpoolctl>=2.0.0 in /cray/css/users/ghorakav/dragon_31032022/hpc-pe-dragon-dragon/_env/lib/python3.9/site-packages (from scikit-learn) (3.2.0)\n",
      "Looking in indexes: https://pypi.org/simple, https://pypi.ngc.nvidia.com\n",
      "Requirement already satisfied: matplotlib in /cray/css/users/ghorakav/dragon_31032022/hpc-pe-dragon-dragon/_env/lib/python3.9/site-packages (3.8.0)\n",
      "Requirement already satisfied: contourpy>=1.0.1 in /cray/css/users/ghorakav/dragon_31032022/hpc-pe-dragon-dragon/_env/lib/python3.9/site-packages (from matplotlib) (1.1.1)\n",
      "Requirement already satisfied: cycler>=0.10 in /cray/css/users/ghorakav/dragon_31032022/hpc-pe-dragon-dragon/_env/lib/python3.9/site-packages (from matplotlib) (0.11.0)\n",
      "Requirement already satisfied: fonttools>=4.22.0 in /cray/css/users/ghorakav/dragon_31032022/hpc-pe-dragon-dragon/_env/lib/python3.9/site-packages (from matplotlib) (4.42.1)\n",
      "Requirement already satisfied: kiwisolver>=1.0.1 in /cray/css/users/ghorakav/dragon_31032022/hpc-pe-dragon-dragon/_env/lib/python3.9/site-packages (from matplotlib) (1.4.5)\n",
      "Requirement already satisfied: numpy<2,>=1.21 in /cray/css/users/ghorakav/dragon_31032022/hpc-pe-dragon-dragon/_env/lib/python3.9/site-packages (from matplotlib) (1.23.5)\n",
      "Requirement already satisfied: packaging>=20.0 in /cray/css/users/ghorakav/dragon_31032022/hpc-pe-dragon-dragon/_env/lib/python3.9/site-packages (from matplotlib) (21.3)\n",
      "Requirement already satisfied: pillow>=6.2.0 in /cray/css/users/ghorakav/dragon_31032022/hpc-pe-dragon-dragon/_env/lib/python3.9/site-packages (from matplotlib) (10.0.1)\n",
      "Requirement already satisfied: pyparsing>=2.3.1 in /cray/css/users/ghorakav/dragon_31032022/hpc-pe-dragon-dragon/_env/lib/python3.9/site-packages (from matplotlib) (3.0.9)\n",
      "Requirement already satisfied: python-dateutil>=2.7 in /cray/css/users/ghorakav/dragon_31032022/hpc-pe-dragon-dragon/_env/lib/python3.9/site-packages (from matplotlib) (2.8.2)\n",
      "Requirement already satisfied: importlib-resources>=3.2.0 in /cray/css/users/ghorakav/dragon_31032022/hpc-pe-dragon-dragon/_env/lib/python3.9/site-packages (from matplotlib) (6.1.0)\n",
      "Requirement already satisfied: zipp>=3.1.0 in /cray/css/users/ghorakav/dragon_31032022/hpc-pe-dragon-dragon/_env/lib/python3.9/site-packages (from importlib-resources>=3.2.0->matplotlib) (3.11.0)\n",
      "Requirement already satisfied: six>=1.5 in /cray/css/users/ghorakav/dragon_31032022/hpc-pe-dragon-dragon/_env/lib/python3.9/site-packages (from python-dateutil>=2.7->matplotlib) (1.16.0)\n",
      "Looking in indexes: https://pypi.org/simple, https://pypi.ngc.nvidia.com\n",
      "Requirement already satisfied: seaborn in /cray/css/users/ghorakav/dragon_31032022/hpc-pe-dragon-dragon/_env/lib/python3.9/site-packages (0.12.2)\n",
      "Requirement already satisfied: numpy!=1.24.0,>=1.17 in /cray/css/users/ghorakav/dragon_31032022/hpc-pe-dragon-dragon/_env/lib/python3.9/site-packages (from seaborn) (1.23.5)\n",
      "Requirement already satisfied: pandas>=0.25 in /cray/css/users/ghorakav/dragon_31032022/hpc-pe-dragon-dragon/_env/lib/python3.9/site-packages (from seaborn) (2.1.1)\n",
      "Requirement already satisfied: matplotlib!=3.6.1,>=3.1 in /cray/css/users/ghorakav/dragon_31032022/hpc-pe-dragon-dragon/_env/lib/python3.9/site-packages (from seaborn) (3.8.0)\n",
      "Requirement already satisfied: contourpy>=1.0.1 in /cray/css/users/ghorakav/dragon_31032022/hpc-pe-dragon-dragon/_env/lib/python3.9/site-packages (from matplotlib!=3.6.1,>=3.1->seaborn) (1.1.1)\n",
      "Requirement already satisfied: cycler>=0.10 in /cray/css/users/ghorakav/dragon_31032022/hpc-pe-dragon-dragon/_env/lib/python3.9/site-packages (from matplotlib!=3.6.1,>=3.1->seaborn) (0.11.0)\n",
      "Requirement already satisfied: fonttools>=4.22.0 in /cray/css/users/ghorakav/dragon_31032022/hpc-pe-dragon-dragon/_env/lib/python3.9/site-packages (from matplotlib!=3.6.1,>=3.1->seaborn) (4.42.1)\n",
      "Requirement already satisfied: kiwisolver>=1.0.1 in /cray/css/users/ghorakav/dragon_31032022/hpc-pe-dragon-dragon/_env/lib/python3.9/site-packages (from matplotlib!=3.6.1,>=3.1->seaborn) (1.4.5)\n",
      "Requirement already satisfied: packaging>=20.0 in /cray/css/users/ghorakav/dragon_31032022/hpc-pe-dragon-dragon/_env/lib/python3.9/site-packages (from matplotlib!=3.6.1,>=3.1->seaborn) (21.3)\n",
      "Requirement already satisfied: pillow>=6.2.0 in /cray/css/users/ghorakav/dragon_31032022/hpc-pe-dragon-dragon/_env/lib/python3.9/site-packages (from matplotlib!=3.6.1,>=3.1->seaborn) (10.0.1)\n",
      "Requirement already satisfied: pyparsing>=2.3.1 in /cray/css/users/ghorakav/dragon_31032022/hpc-pe-dragon-dragon/_env/lib/python3.9/site-packages (from matplotlib!=3.6.1,>=3.1->seaborn) (3.0.9)\n",
      "Requirement already satisfied: python-dateutil>=2.7 in /cray/css/users/ghorakav/dragon_31032022/hpc-pe-dragon-dragon/_env/lib/python3.9/site-packages (from matplotlib!=3.6.1,>=3.1->seaborn) (2.8.2)\n",
      "Requirement already satisfied: importlib-resources>=3.2.0 in /cray/css/users/ghorakav/dragon_31032022/hpc-pe-dragon-dragon/_env/lib/python3.9/site-packages (from matplotlib!=3.6.1,>=3.1->seaborn) (6.1.0)\n",
      "Requirement already satisfied: pytz>=2020.1 in /cray/css/users/ghorakav/dragon_31032022/hpc-pe-dragon-dragon/_env/lib/python3.9/site-packages (from pandas>=0.25->seaborn) (2023.3.post1)\n",
      "Requirement already satisfied: tzdata>=2022.1 in /cray/css/users/ghorakav/dragon_31032022/hpc-pe-dragon-dragon/_env/lib/python3.9/site-packages (from pandas>=0.25->seaborn) (2023.3)\n",
      "Requirement already satisfied: zipp>=3.1.0 in /cray/css/users/ghorakav/dragon_31032022/hpc-pe-dragon-dragon/_env/lib/python3.9/site-packages (from importlib-resources>=3.2.0->matplotlib!=3.6.1,>=3.1->seaborn) (3.11.0)\n",
      "Requirement already satisfied: six>=1.5 in /cray/css/users/ghorakav/dragon_31032022/hpc-pe-dragon-dragon/_env/lib/python3.9/site-packages (from python-dateutil>=2.7->matplotlib!=3.6.1,>=3.1->seaborn) (1.16.0)\n"
     ]
    }
   ],
   "source": [
    "!pip install pandarallel\n",
    "!pip install biopython\n",
    "!pip install pyalign\n",
    "!pip install scikit-learn\n",
    "!pip install matplotlib\n",
    "!pip install seaborn"
   ]
  },
  {
   "cell_type": "code",
   "execution_count": 3,
   "metadata": {},
   "outputs": [
    {
     "data": {
      "text/plain": [
       "'1.6.5'"
      ]
     },
     "execution_count": 3,
     "metadata": {},
     "output_type": "execute_result"
    }
   ],
   "source": [
    "import dragon\n",
    "import multiprocessing\n",
    "\n",
    "import cloudpickle\n",
    "\n",
    "import os\n",
    "os.environ['OPENBLAS_NUM_THREADS'] = '1'\n",
    "\n",
    "import numpy as np\n",
    "import pandas as pd\n",
    "\n",
    "import Bio\n",
    "from Bio import SeqIO, Entrez\n",
    "import pyalign\n",
    "import time\n",
    "import matplotlib.pyplot as plt\n",
    "from sklearn.cluster import KMeans\n",
    "import seaborn as sns\n",
    "import os.path\n",
    "import pandarallel; pandarallel.__version__"
   ]
  },
  {
   "cell_type": "markdown",
   "metadata": {},
   "source": [
    "The NPSR1 variant, rs142885915, is linked to stage III/IV endometriosis. The GenBank record is linked here: https://www.ncbi.nlm.nih.gov/nuccore/KR711722"
   ]
  },
  {
   "cell_type": "code",
   "execution_count": 4,
   "metadata": {},
   "outputs": [],
   "source": [
    "Entrez.email = raise Exception(\"need to set your email address here\")\n",
    "handle = Entrez.efetch(db=\"nuccore\", id=\"KR711722\", rettype=\"gb\", retmode=\"text\")\n",
    "read = SeqIO.read(handle, \"genbank\")\n",
    "handle.close()"
   ]
  },
  {
   "cell_type": "markdown",
   "metadata": {},
   "source": [
    "A subset of the nucleotide (DNA + mRNA) database is created that is specific to NPSR1. The database is written to a csv file. If the database exists, it is read from the file. "
   ]
  },
  {
   "cell_type": "code",
   "execution_count": 5,
   "metadata": {},
   "outputs": [],
   "source": [
    "if os.path.isfile(\"NSPR1_genes_database.csv\"):\n",
    "    handle = Entrez.esearch(db=\"nucleotide\", term=\"npsr1[gene] AND mammals[ORGN]\", retmax='100')\n",
    "    record = Entrez.read(handle)\n",
    "    nucl_identifiers = list(record[\"IdList\"])\n",
    "    handle.close()\n",
    "    endo_name, endo_nucl_seq, endo_descr = str(read.name), str(read.seq), str(read.description)\n",
    "    nucl_df = pd.read_csv(\"NSPR1_genes_database.csv\", on_bad_lines='skip')\n",
    "else:\n",
    "    handle = Entrez.esearch(db=\"nucleotide\", term=\"npsr1[gene] AND mammals[ORGN]\", retmax='100')\n",
    "    record = Entrez.read(handle)\n",
    "    nucl_identifiers = list(record[\"IdList\"])\n",
    "    handle.close()\n",
    "    endo_name, endo_nucl_seq, endo_descr = str(read.name), str(read.seq), str(read.description)\n",
    "    nucl_id_names, nucl_sequences, nucl_descriptions = [endo_name], [endo_nucl_seq], [endo_descr]\n",
    "    for idx, seq_id in enumerate(nucl_identifiers):\n",
    "        try:\n",
    "            handle = Entrez.efetch(db=\"nucleotide\", id=seq_id,  retmode='text', rettype='gb')\n",
    "            read = SeqIO.read(handle, \"genbank\")\n",
    "            nucl_id_names.append(str(read.name))\n",
    "            nucl_sequences.append(str(read.seq))\n",
    "            nucl_descriptions.append(str(read.description))\n",
    "            handle.close()\n",
    "        except:\n",
    "            pass\n",
    "    nucl_df = pd.DataFrame(list(zip(nucl_id_names, nucl_sequences, nucl_descriptions)), columns=['ID Name','Sequence', 'Description'])\n",
    "    nucl_df.to_csv(\"NSPR1_genes_database.csv\", index=False)"
   ]
  },
  {
   "cell_type": "code",
   "execution_count": 6,
   "metadata": {},
   "outputs": [
    {
     "data": {
      "text/html": [
       "<div>\n",
       "<style scoped>\n",
       "    .dataframe tbody tr th:only-of-type {\n",
       "        vertical-align: middle;\n",
       "    }\n",
       "\n",
       "    .dataframe tbody tr th {\n",
       "        vertical-align: top;\n",
       "    }\n",
       "\n",
       "    .dataframe thead th {\n",
       "        text-align: right;\n",
       "    }\n",
       "</style>\n",
       "<table border=\"1\" class=\"dataframe\">\n",
       "  <thead>\n",
       "    <tr style=\"text-align: right;\">\n",
       "      <th></th>\n",
       "      <th>ID Name</th>\n",
       "      <th>Sequence</th>\n",
       "      <th>Description</th>\n",
       "    </tr>\n",
       "  </thead>\n",
       "  <tbody>\n",
       "    <tr>\n",
       "      <th>0</th>\n",
       "      <td>KR711722</td>\n",
       "      <td>GTTCGTTGCAACAAATTGATGAGCAATGCTTTTTTATAATGCCAAC...</td>\n",
       "      <td>Synthetic construct Homo sapiens clone CCSBHm_...</td>\n",
       "    </tr>\n",
       "    <tr>\n",
       "      <th>1</th>\n",
       "      <td>XM_058724619</td>\n",
       "      <td>GGGGTGAAGAGGCTGTGTTGGCTACTGGATCATAACTGCTGAGGAG...</td>\n",
       "      <td>PREDICTED: Neofelis nebulosa neuropeptide S re...</td>\n",
       "    </tr>\n",
       "    <tr>\n",
       "      <th>2</th>\n",
       "      <td>NC_080785</td>\n",
       "      <td>ATGCCTGCCAACTGGACAGAGGGAAGCACCACTTCCAACCAGACCA...</td>\n",
       "      <td>PREDICTED: Ochotona princeps neuropeptide S re...</td>\n",
       "    </tr>\n",
       "    <tr>\n",
       "      <th>3</th>\n",
       "      <td>XM_012926142</td>\n",
       "      <td>ATGCCTGCCAACTGGACAGAGGGAAGCACCACTTCCAACCAGACCA...</td>\n",
       "      <td>PREDICTED: Ochotona princeps neuropeptide S re...</td>\n",
       "    </tr>\n",
       "    <tr>\n",
       "      <th>4</th>\n",
       "      <td>XM_004582374</td>\n",
       "      <td>GAACTCTTCACTGAGGTGGGCTCAGGGAGGGCTCTGTGCCTGCGTT...</td>\n",
       "      <td>Mus musculus neuropeptide S receptor 1 (Npsr1)...</td>\n",
       "    </tr>\n",
       "    <tr>\n",
       "      <th>...</th>\n",
       "      <td>...</td>\n",
       "      <td>...</td>\n",
       "      <td>...</td>\n",
       "    </tr>\n",
       "    <tr>\n",
       "      <th>65</th>\n",
       "      <td>XM_055293449</td>\n",
       "      <td>ATGCCAGCCAACCTCACAGAGGGCAGCCCTGAAGCCAGCACCACCT...</td>\n",
       "      <td>PREDICTED: Talpa occidentalis neuropeptide S r...</td>\n",
       "    </tr>\n",
       "    <tr>\n",
       "      <th>66</th>\n",
       "      <td>XM_055293447</td>\n",
       "      <td>ATGCCGGACAACCTCACCGAGGGCAGCCCCGAGGCCAACGGGACCG...</td>\n",
       "      <td>PREDICTED: Pteronotus parnellii mesoamericanus...</td>\n",
       "    </tr>\n",
       "    <tr>\n",
       "      <th>67</th>\n",
       "      <td>NC_072431</td>\n",
       "      <td>ATGCCGGACAACCTCACCGAGGGCAGCCCCGAGGCCAACGGGACCG...</td>\n",
       "      <td>PREDICTED: Pteronotus parnellii mesoamericanus...</td>\n",
       "    </tr>\n",
       "    <tr>\n",
       "      <th>68</th>\n",
       "      <td>XM_012932358</td>\n",
       "      <td>GGGATCTGTGACCCACATTCTCCAGAGGTAGTCCAAGGAGTGAGTG...</td>\n",
       "      <td>PREDICTED: Acinonyx jubatus neuropeptide S rec...</td>\n",
       "    </tr>\n",
       "    <tr>\n",
       "      <th>69</th>\n",
       "      <td>XM_004606883</td>\n",
       "      <td>GGGATCTGTGACCCACATTCTCCAGAGGTAGTCCAAGGAGTGAGTG...</td>\n",
       "      <td>PREDICTED: Acinonyx jubatus neuropeptide S rec...</td>\n",
       "    </tr>\n",
       "  </tbody>\n",
       "</table>\n",
       "<p>70 rows × 3 columns</p>\n",
       "</div>"
      ],
      "text/plain": [
       "         ID Name                                           Sequence  \\\n",
       "0       KR711722  GTTCGTTGCAACAAATTGATGAGCAATGCTTTTTTATAATGCCAAC...   \n",
       "1   XM_058724619  GGGGTGAAGAGGCTGTGTTGGCTACTGGATCATAACTGCTGAGGAG...   \n",
       "2      NC_080785  ATGCCTGCCAACTGGACAGAGGGAAGCACCACTTCCAACCAGACCA...   \n",
       "3   XM_012926142  ATGCCTGCCAACTGGACAGAGGGAAGCACCACTTCCAACCAGACCA...   \n",
       "4   XM_004582374  GAACTCTTCACTGAGGTGGGCTCAGGGAGGGCTCTGTGCCTGCGTT...   \n",
       "..           ...                                                ...   \n",
       "65  XM_055293449  ATGCCAGCCAACCTCACAGAGGGCAGCCCTGAAGCCAGCACCACCT...   \n",
       "66  XM_055293447  ATGCCGGACAACCTCACCGAGGGCAGCCCCGAGGCCAACGGGACCG...   \n",
       "67     NC_072431  ATGCCGGACAACCTCACCGAGGGCAGCCCCGAGGCCAACGGGACCG...   \n",
       "68  XM_012932358  GGGATCTGTGACCCACATTCTCCAGAGGTAGTCCAAGGAGTGAGTG...   \n",
       "69  XM_004606883  GGGATCTGTGACCCACATTCTCCAGAGGTAGTCCAAGGAGTGAGTG...   \n",
       "\n",
       "                                          Description  \n",
       "0   Synthetic construct Homo sapiens clone CCSBHm_...  \n",
       "1   PREDICTED: Neofelis nebulosa neuropeptide S re...  \n",
       "2   PREDICTED: Ochotona princeps neuropeptide S re...  \n",
       "3   PREDICTED: Ochotona princeps neuropeptide S re...  \n",
       "4   Mus musculus neuropeptide S receptor 1 (Npsr1)...  \n",
       "..                                                ...  \n",
       "65  PREDICTED: Talpa occidentalis neuropeptide S r...  \n",
       "66  PREDICTED: Pteronotus parnellii mesoamericanus...  \n",
       "67  PREDICTED: Pteronotus parnellii mesoamericanus...  \n",
       "68  PREDICTED: Acinonyx jubatus neuropeptide S rec...  \n",
       "69  PREDICTED: Acinonyx jubatus neuropeptide S rec...  \n",
       "\n",
       "[70 rows x 3 columns]"
      ]
     },
     "execution_count": 6,
     "metadata": {},
     "output_type": "execute_result"
    }
   ],
   "source": [
    "nucl_df"
   ]
  },
  {
   "cell_type": "markdown",
   "metadata": {},
   "source": [
    "The use of a global variable inside a lambda function demonstrates key functionality from `cloudpickle` that is not otherwise available through `dill`. There is one progress bar for each worker. "
   ]
  },
  {
   "cell_type": "code",
   "execution_count": 7,
   "metadata": {},
   "outputs": [
    {
     "name": "stdout",
     "output_type": "stream",
     "text": [
      "INFO: Pandarallel will run on 128 workers.\n",
      "INFO: Pandarallel will use Memory file system to transfer data between the main process and workers.\n"
     ]
    }
   ],
   "source": [
    "multiprocessing.set_start_method(\"dragon\")\n",
    "pandarallel.core.dill = cloudpickle\n",
    "ctx = multiprocessing.get_context(\"dragon\")\n",
    "ctx.Manager = type(\"PMgr\", (), {\"Queue\": ctx.Queue})\n",
    "pandarallel.core.CONTEXT = ctx\n",
    "pandarallel.pandarallel.initialize(progress_bar=True)"
   ]
  },
  {
   "cell_type": "markdown",
   "metadata": {},
   "source": [
    "The pairwise alignment algorithm from PyAlign can be used for either nucleotide or amino acid sequences to find similar regions in two sequences. The pairwise alignment score can point to similar functions, evolutionary origins, and structural elements in the two sequences. The higher the score, the better the alignment."
   ]
  },
  {
   "cell_type": "code",
   "execution_count": 8,
   "metadata": {},
   "outputs": [],
   "source": [
    "def alignment_algorithm(sequence_1, sequence_2, gap):\n",
    "    alignment = pyalign.global_alignment(sequence_1, sequence_2, gap_cost=gap, eq=1, ne=-1)\n",
    "    return alignment.score"
   ]
  },
  {
   "cell_type": "markdown",
   "metadata": {},
   "source": [
    "Running this next cell will cause as many progress bars to be displayed as there are workers."
   ]
  },
  {
   "cell_type": "code",
   "execution_count": 9,
   "metadata": {},
   "outputs": [
    {
     "data": {
      "application/vnd.jupyter.widget-view+json": {
       "model_id": "0fd0fb95df954ffaabcf1171bb0f6b61",
       "version_major": 2,
       "version_minor": 0
      },
      "text/plain": [
       "VBox(children=(HBox(children=(IntProgress(value=0, description='0.00%', max=1), Label(value='0 / 1'))), HBox(c…"
      ]
     },
     "metadata": {},
     "output_type": "display_data"
    }
   ],
   "source": [
    "start = time.monotonic()\n",
    "nucl_df['PyAlign Alignment Score'] = nucl_df['Sequence'].parallel_apply(lambda seq2: alignment_algorithm(endo_nucl_seq, seq2, gap=0))\n",
    "stop = time.monotonic()\n",
    "functions, bar_num, tot_time = ['PyAlign Alignment Score'],[128],[stop-start]"
   ]
  },
  {
   "cell_type": "markdown",
   "metadata": {},
   "source": [
    "Now we have our new column of values in our `pandas.DataFrame` that shows the pairwise alignment from PyAlign."
   ]
  },
  {
   "cell_type": "code",
   "execution_count": 10,
   "metadata": {},
   "outputs": [
    {
     "data": {
      "text/html": [
       "<div>\n",
       "<style scoped>\n",
       "    .dataframe tbody tr th:only-of-type {\n",
       "        vertical-align: middle;\n",
       "    }\n",
       "\n",
       "    .dataframe tbody tr th {\n",
       "        vertical-align: top;\n",
       "    }\n",
       "\n",
       "    .dataframe thead th {\n",
       "        text-align: right;\n",
       "    }\n",
       "</style>\n",
       "<table border=\"1\" class=\"dataframe\">\n",
       "  <thead>\n",
       "    <tr style=\"text-align: right;\">\n",
       "      <th></th>\n",
       "      <th>ID Name</th>\n",
       "      <th>Sequence</th>\n",
       "      <th>PyAlign Alignment Score</th>\n",
       "      <th>Description</th>\n",
       "    </tr>\n",
       "  </thead>\n",
       "  <tbody>\n",
       "    <tr>\n",
       "      <th>0</th>\n",
       "      <td>KR711722</td>\n",
       "      <td>GTTCGTTGCAACAAATTGATGAGCAATGCTTTTTTATAATGCCAAC...</td>\n",
       "      <td>1266.0</td>\n",
       "      <td>Synthetic construct Homo sapiens clone CCSBHm_...</td>\n",
       "    </tr>\n",
       "    <tr>\n",
       "      <th>31</th>\n",
       "      <td>XM_057550285</td>\n",
       "      <td>ATCCATGATGCTCGTTGAGAGGAGGGGTGCAAGGCAGGCACTGATC...</td>\n",
       "      <td>1266.0</td>\n",
       "      <td>PREDICTED: Monodelphis domestica neuropeptide ...</td>\n",
       "    </tr>\n",
       "    <tr>\n",
       "      <th>63</th>\n",
       "      <td>XM_055293451</td>\n",
       "      <td>GGCCACACTGGGCAGGTCTGTGGGATGGTGAGGGCTGTGCTGGCTG...</td>\n",
       "      <td>1266.0</td>\n",
       "      <td>PREDICTED: Mus musculus neuropeptide S recepto...</td>\n",
       "    </tr>\n",
       "    <tr>\n",
       "      <th>17</th>\n",
       "      <td>XM_032758339</td>\n",
       "      <td>ATGGCAGAAGGCAAAGTAGGAACAGGCACGCCACATGGCAAGAGAG...</td>\n",
       "      <td>1266.0</td>\n",
       "      <td>Homo sapiens neuropeptide S receptor 1 (NPSR1)...</td>\n",
       "    </tr>\n",
       "    <tr>\n",
       "      <th>62</th>\n",
       "      <td>NC_073231</td>\n",
       "      <td>GGCCACACTGGGCAGGTCTGTGGGATGGTGAGGGCTGTGCTGGCTG...</td>\n",
       "      <td>1264.0</td>\n",
       "      <td>PREDICTED: Mus musculus neuropeptide S recepto...</td>\n",
       "    </tr>\n",
       "  </tbody>\n",
       "</table>\n",
       "</div>"
      ],
      "text/plain": [
       "         ID Name                                           Sequence  \\\n",
       "0       KR711722  GTTCGTTGCAACAAATTGATGAGCAATGCTTTTTTATAATGCCAAC...   \n",
       "31  XM_057550285  ATCCATGATGCTCGTTGAGAGGAGGGGTGCAAGGCAGGCACTGATC...   \n",
       "63  XM_055293451  GGCCACACTGGGCAGGTCTGTGGGATGGTGAGGGCTGTGCTGGCTG...   \n",
       "17  XM_032758339  ATGGCAGAAGGCAAAGTAGGAACAGGCACGCCACATGGCAAGAGAG...   \n",
       "62     NC_073231  GGCCACACTGGGCAGGTCTGTGGGATGGTGAGGGCTGTGCTGGCTG...   \n",
       "\n",
       "    PyAlign Alignment Score                                        Description  \n",
       "0                    1266.0  Synthetic construct Homo sapiens clone CCSBHm_...  \n",
       "31                   1266.0  PREDICTED: Monodelphis domestica neuropeptide ...  \n",
       "63                   1266.0  PREDICTED: Mus musculus neuropeptide S recepto...  \n",
       "17                   1266.0  Homo sapiens neuropeptide S receptor 1 (NPSR1)...  \n",
       "62                   1264.0  PREDICTED: Mus musculus neuropeptide S recepto...  "
      ]
     },
     "execution_count": 10,
     "metadata": {},
     "output_type": "execute_result"
    }
   ],
   "source": [
    "nucl_df.sort_values(by=['PyAlign Alignment Score'],  inplace = True, ascending=False)\n",
    "nucl_df = nucl_df[['ID Name','Sequence', 'PyAlign Alignment Score', 'Description']]\n",
    "nucl_df.head()"
   ]
  },
  {
   "cell_type": "markdown",
   "metadata": {},
   "source": [
    "We can change our minds about how many progress bars to display, at will. \n",
    "This will be used to calculate the E-value or the expect value. \n",
    "The E value is used to determine the number of hits one can expect to see when searching the database. As the score increases, the E value decreases. This means there is a reduction in noise. \n",
    "The smaller the E-value, the better the match. The E value is calculated with using the Jaccard distance. "
   ]
  },
  {
   "cell_type": "code",
   "execution_count": 11,
   "metadata": {},
   "outputs": [
    {
     "name": "stdout",
     "output_type": "stream",
     "text": [
      "INFO: Pandarallel will run on 128 workers.\n",
      "INFO: Pandarallel will use Memory file system to transfer data between the main process and workers.\n"
     ]
    }
   ],
   "source": [
    "pandarallel.pandarallel.initialize(progress_bar=10) "
   ]
  },
  {
   "cell_type": "code",
   "execution_count": 12,
   "metadata": {},
   "outputs": [],
   "source": [
    "def jaccard_similarity(list1, list2):\n",
    "    intersection = len(list(set(list1).intersection(list2)))\n",
    "    union = (len(set(list1)) + len(set(list2))) - intersection\n",
    "    return 1.0 - float(intersection) / union"
   ]
  },
  {
   "cell_type": "code",
   "execution_count": 13,
   "metadata": {
    "scrolled": true
   },
   "outputs": [
    {
     "data": {
      "application/vnd.jupyter.widget-view+json": {
       "model_id": "58e49469fe7f4dd7806eb47054775765",
       "version_major": 2,
       "version_minor": 0
      },
      "text/plain": [
       "VBox(children=(HBox(children=(IntProgress(value=0, description='0.00%', max=1), Label(value='0 / 1'))), HBox(c…"
      ]
     },
     "metadata": {},
     "output_type": "display_data"
    },
    {
     "name": "stderr",
     "output_type": "stream",
     "text": [
      "/tmp/ipykernel_95639/183751692.py:2: SettingWithCopyWarning: \n",
      "A value is trying to be set on a copy of a slice from a DataFrame.\n",
      "Try using .loc[row_indexer,col_indexer] = value instead\n",
      "\n",
      "See the caveats in the documentation: https://pandas.pydata.org/pandas-docs/stable/user_guide/indexing.html#returning-a-view-versus-a-copy\n",
      "  nucl_df['E Value'] = nucl_df['Sequence'].parallel_apply(lambda seq2: jaccard_similarity(list(endo_nucl_seq), list(seq2)))\n"
     ]
    }
   ],
   "source": [
    "start = time.monotonic()\n",
    "nucl_df['E Value'] = nucl_df['Sequence'].parallel_apply(lambda seq2: jaccard_similarity(list(endo_nucl_seq), list(seq2)))\n",
    "stop = time.monotonic()\n",
    "functions.append(\"E Value\")\n",
    "bar_num.append(10)\n",
    "tot_time.append(stop-start)"
   ]
  },
  {
   "cell_type": "code",
   "execution_count": 14,
   "metadata": {},
   "outputs": [
    {
     "name": "stderr",
     "output_type": "stream",
     "text": [
      "/tmp/ipykernel_95639/2651553576.py:1: SettingWithCopyWarning: \n",
      "A value is trying to be set on a copy of a slice from a DataFrame\n",
      "\n",
      "See the caveats in the documentation: https://pandas.pydata.org/pandas-docs/stable/user_guide/indexing.html#returning-a-view-versus-a-copy\n",
      "  nucl_df.sort_values(by=['E Value'],  inplace = True, ascending=True)\n"
     ]
    },
    {
     "data": {
      "text/html": [
       "<div>\n",
       "<style scoped>\n",
       "    .dataframe tbody tr th:only-of-type {\n",
       "        vertical-align: middle;\n",
       "    }\n",
       "\n",
       "    .dataframe tbody tr th {\n",
       "        vertical-align: top;\n",
       "    }\n",
       "\n",
       "    .dataframe thead th {\n",
       "        text-align: right;\n",
       "    }\n",
       "</style>\n",
       "<table border=\"1\" class=\"dataframe\">\n",
       "  <thead>\n",
       "    <tr style=\"text-align: right;\">\n",
       "      <th></th>\n",
       "      <th>ID Name</th>\n",
       "      <th>Sequence</th>\n",
       "      <th>PyAlign Alignment Score</th>\n",
       "      <th>E Value</th>\n",
       "      <th>Description</th>\n",
       "    </tr>\n",
       "  </thead>\n",
       "  <tbody>\n",
       "    <tr>\n",
       "      <th>0</th>\n",
       "      <td>KR711722</td>\n",
       "      <td>GTTCGTTGCAACAAATTGATGAGCAATGCTTTTTTATAATGCCAAC...</td>\n",
       "      <td>1266.0</td>\n",
       "      <td>0.0</td>\n",
       "      <td>Synthetic construct Homo sapiens clone CCSBHm_...</td>\n",
       "    </tr>\n",
       "    <tr>\n",
       "      <th>56</th>\n",
       "      <td>XM_004045300</td>\n",
       "      <td>GGTAATTGCCAAGGAGAGAGCAGCACGTATATCCTCCCTGTCATCA...</td>\n",
       "      <td>1037.0</td>\n",
       "      <td>0.0</td>\n",
       "      <td>PREDICTED: Pongo pygmaeus neuropeptide S recep...</td>\n",
       "    </tr>\n",
       "    <tr>\n",
       "      <th>9</th>\n",
       "      <td>NW_026693761</td>\n",
       "      <td>GGTAATTGACAAGGAGAGAGCAGCACGTAGATCCTCCCTGTCATAA...</td>\n",
       "      <td>1036.0</td>\n",
       "      <td>0.0</td>\n",
       "      <td>PREDICTED: Hylobates moloch neuropeptide S rec...</td>\n",
       "    </tr>\n",
       "    <tr>\n",
       "      <th>24</th>\n",
       "      <td>NG_012185</td>\n",
       "      <td>ATGCCGGCCAACCTCACGGAGGGCAGCCCCAAGTCCAACGGGACTG...</td>\n",
       "      <td>1028.0</td>\n",
       "      <td>0.0</td>\n",
       "      <td>PREDICTED: Balaenoptera acutorostrata neuropep...</td>\n",
       "    </tr>\n",
       "    <tr>\n",
       "      <th>8</th>\n",
       "      <td>XM_046460636</td>\n",
       "      <td>ATGCCAGCCAACCTGACTGAGGGCAGCCCCAGTTCCAACGGGACCT...</td>\n",
       "      <td>1024.0</td>\n",
       "      <td>0.0</td>\n",
       "      <td>PREDICTED: Diceros bicornis minor neuropeptide...</td>\n",
       "    </tr>\n",
       "  </tbody>\n",
       "</table>\n",
       "</div>"
      ],
      "text/plain": [
       "         ID Name                                           Sequence  \\\n",
       "0       KR711722  GTTCGTTGCAACAAATTGATGAGCAATGCTTTTTTATAATGCCAAC...   \n",
       "56  XM_004045300  GGTAATTGCCAAGGAGAGAGCAGCACGTATATCCTCCCTGTCATCA...   \n",
       "9   NW_026693761  GGTAATTGACAAGGAGAGAGCAGCACGTAGATCCTCCCTGTCATAA...   \n",
       "24     NG_012185  ATGCCGGCCAACCTCACGGAGGGCAGCCCCAAGTCCAACGGGACTG...   \n",
       "8   XM_046460636  ATGCCAGCCAACCTGACTGAGGGCAGCCCCAGTTCCAACGGGACCT...   \n",
       "\n",
       "    PyAlign Alignment Score  E Value  \\\n",
       "0                    1266.0      0.0   \n",
       "56                   1037.0      0.0   \n",
       "9                    1036.0      0.0   \n",
       "24                   1028.0      0.0   \n",
       "8                    1024.0      0.0   \n",
       "\n",
       "                                          Description  \n",
       "0   Synthetic construct Homo sapiens clone CCSBHm_...  \n",
       "56  PREDICTED: Pongo pygmaeus neuropeptide S recep...  \n",
       "9   PREDICTED: Hylobates moloch neuropeptide S rec...  \n",
       "24  PREDICTED: Balaenoptera acutorostrata neuropep...  \n",
       "8   PREDICTED: Diceros bicornis minor neuropeptide...  "
      ]
     },
     "execution_count": 14,
     "metadata": {},
     "output_type": "execute_result"
    }
   ],
   "source": [
    "nucl_df.sort_values(by=['E Value'],  inplace = True, ascending=True)\n",
    "nucl_df = nucl_df[['ID Name','Sequence', 'PyAlign Alignment Score','E Value', 'Description']]\n",
    "nucl_df.head()"
   ]
  },
  {
   "cell_type": "markdown",
   "metadata": {},
   "source": [
    "There will be plenty of use cases / scenarios where a single progress bar is all we want. For this use case, we will use the sequencing coverage percentage which provides the percentage of coverage of the aligned sequence reads."
   ]
  },
  {
   "cell_type": "code",
   "execution_count": 15,
   "metadata": {},
   "outputs": [
    {
     "name": "stdout",
     "output_type": "stream",
     "text": [
      "INFO: Pandarallel will run on 128 workers.\n",
      "INFO: Pandarallel will use Memory file system to transfer data between the main process and workers.\n"
     ]
    }
   ],
   "source": [
    "pandarallel.pandarallel.initialize(progress_bar=1)  # Will display 1 progress bar representing all workers."
   ]
  },
  {
   "cell_type": "code",
   "execution_count": 16,
   "metadata": {},
   "outputs": [
    {
     "data": {
      "application/vnd.jupyter.widget-view+json": {
       "model_id": "eed7d973892343758f6e17134768eb36",
       "version_major": 2,
       "version_minor": 0
      },
      "text/plain": [
       "VBox(children=(HBox(children=(IntProgress(value=0, description='0.00%', max=1), Label(value='0 / 1'))), HBox(c…"
      ]
     },
     "metadata": {},
     "output_type": "display_data"
    }
   ],
   "source": [
    "start = time.monotonic()\n",
    "nucl_df['Percentage Coverage'] = nucl_df['PyAlign Alignment Score'].parallel_apply(lambda match: 100*(float(match/len(endo_nucl_seq))))\n",
    "stop = time.monotonic()\n",
    "functions.append(\"Percentage Coverage\")\n",
    "bar_num.append(1)\n",
    "tot_time.append(stop-start)"
   ]
  },
  {
   "cell_type": "markdown",
   "metadata": {},
   "source": [
    "The final nucleotide dataframe output shows the alignment, E value, and percentage coverage ordered by percentage coverage and E value. The best matches line up with the query sequence."
   ]
  },
  {
   "cell_type": "code",
   "execution_count": 17,
   "metadata": {
    "scrolled": true
   },
   "outputs": [
    {
     "data": {
      "text/html": [
       "<div>\n",
       "<style scoped>\n",
       "    .dataframe tbody tr th:only-of-type {\n",
       "        vertical-align: middle;\n",
       "    }\n",
       "\n",
       "    .dataframe tbody tr th {\n",
       "        vertical-align: top;\n",
       "    }\n",
       "\n",
       "    .dataframe thead th {\n",
       "        text-align: right;\n",
       "    }\n",
       "</style>\n",
       "<table border=\"1\" class=\"dataframe\">\n",
       "  <thead>\n",
       "    <tr style=\"text-align: right;\">\n",
       "      <th></th>\n",
       "      <th>ID Name</th>\n",
       "      <th>Sequence</th>\n",
       "      <th>PyAlign Alignment Score</th>\n",
       "      <th>E Value</th>\n",
       "      <th>Percentage Coverage</th>\n",
       "      <th>Description</th>\n",
       "    </tr>\n",
       "  </thead>\n",
       "  <tbody>\n",
       "    <tr>\n",
       "      <th>0</th>\n",
       "      <td>KR711722</td>\n",
       "      <td>GTTCGTTGCAACAAATTGATGAGCAATGCTTTTTTATAATGCCAAC...</td>\n",
       "      <td>1266.0</td>\n",
       "      <td>0.0</td>\n",
       "      <td>100.000000</td>\n",
       "      <td>Synthetic construct Homo sapiens clone CCSBHm_...</td>\n",
       "    </tr>\n",
       "    <tr>\n",
       "      <th>31</th>\n",
       "      <td>XM_057550285</td>\n",
       "      <td>ATCCATGATGCTCGTTGAGAGGAGGGGTGCAAGGCAGGCACTGATC...</td>\n",
       "      <td>1266.0</td>\n",
       "      <td>0.0</td>\n",
       "      <td>100.000000</td>\n",
       "      <td>PREDICTED: Monodelphis domestica neuropeptide ...</td>\n",
       "    </tr>\n",
       "    <tr>\n",
       "      <th>63</th>\n",
       "      <td>XM_055293451</td>\n",
       "      <td>GGCCACACTGGGCAGGTCTGTGGGATGGTGAGGGCTGTGCTGGCTG...</td>\n",
       "      <td>1266.0</td>\n",
       "      <td>0.0</td>\n",
       "      <td>100.000000</td>\n",
       "      <td>PREDICTED: Mus musculus neuropeptide S recepto...</td>\n",
       "    </tr>\n",
       "    <tr>\n",
       "      <th>17</th>\n",
       "      <td>XM_032758339</td>\n",
       "      <td>ATGGCAGAAGGCAAAGTAGGAACAGGCACGCCACATGGCAAGAGAG...</td>\n",
       "      <td>1266.0</td>\n",
       "      <td>0.0</td>\n",
       "      <td>100.000000</td>\n",
       "      <td>Homo sapiens neuropeptide S receptor 1 (NPSR1)...</td>\n",
       "    </tr>\n",
       "    <tr>\n",
       "      <th>62</th>\n",
       "      <td>NC_073231</td>\n",
       "      <td>GGCCACACTGGGCAGGTCTGTGGGATGGTGAGGGCTGTGCTGGCTG...</td>\n",
       "      <td>1264.0</td>\n",
       "      <td>0.0</td>\n",
       "      <td>99.842022</td>\n",
       "      <td>PREDICTED: Mus musculus neuropeptide S recepto...</td>\n",
       "    </tr>\n",
       "    <tr>\n",
       "      <th>...</th>\n",
       "      <td>...</td>\n",
       "      <td>...</td>\n",
       "      <td>...</td>\n",
       "      <td>...</td>\n",
       "      <td>...</td>\n",
       "      <td>...</td>\n",
       "    </tr>\n",
       "    <tr>\n",
       "      <th>41</th>\n",
       "      <td>XM_057302845</td>\n",
       "      <td>ATGCCAGCCCACCTCGCAGAGGCCAGCCCCGACTCCAGCCACCCCA...</td>\n",
       "      <td>823.0</td>\n",
       "      <td>0.0</td>\n",
       "      <td>65.007899</td>\n",
       "      <td>PREDICTED: Nyctereutes procyonoides neuropepti...</td>\n",
       "    </tr>\n",
       "    <tr>\n",
       "      <th>2</th>\n",
       "      <td>NC_080785</td>\n",
       "      <td>ATGCCTGCCAACTGGACAGAGGGAAGCACCACTTCCAACCAGACCA...</td>\n",
       "      <td>820.0</td>\n",
       "      <td>0.0</td>\n",
       "      <td>64.770932</td>\n",
       "      <td>PREDICTED: Ochotona princeps neuropeptide S re...</td>\n",
       "    </tr>\n",
       "    <tr>\n",
       "      <th>34</th>\n",
       "      <td>NC_080070</td>\n",
       "      <td>ATGCCAGCCAACTTCACAGAGGGCAGCTTTCATGCCAACCAGACTG...</td>\n",
       "      <td>817.0</td>\n",
       "      <td>0.0</td>\n",
       "      <td>64.533965</td>\n",
       "      <td>PREDICTED: Psammomys obesus neuropeptide S rec...</td>\n",
       "    </tr>\n",
       "    <tr>\n",
       "      <th>32</th>\n",
       "      <td>XM_057550284</td>\n",
       "      <td>ATGACAGCCAACCTCACAGAAGATGCCTCCACTTCCAATATAACGT...</td>\n",
       "      <td>800.0</td>\n",
       "      <td>0.0</td>\n",
       "      <td>63.191153</td>\n",
       "      <td>PREDICTED: Sorex cinereus neuropeptide S recep...</td>\n",
       "    </tr>\n",
       "    <tr>\n",
       "      <th>66</th>\n",
       "      <td>XM_055293447</td>\n",
       "      <td>ATGCCGGACAACCTCACCGAGGGCAGCCCCGAGGCCAACGGGACCG...</td>\n",
       "      <td>791.0</td>\n",
       "      <td>0.0</td>\n",
       "      <td>62.480253</td>\n",
       "      <td>PREDICTED: Pteronotus parnellii mesoamericanus...</td>\n",
       "    </tr>\n",
       "  </tbody>\n",
       "</table>\n",
       "<p>70 rows × 6 columns</p>\n",
       "</div>"
      ],
      "text/plain": [
       "         ID Name                                           Sequence  \\\n",
       "0       KR711722  GTTCGTTGCAACAAATTGATGAGCAATGCTTTTTTATAATGCCAAC...   \n",
       "31  XM_057550285  ATCCATGATGCTCGTTGAGAGGAGGGGTGCAAGGCAGGCACTGATC...   \n",
       "63  XM_055293451  GGCCACACTGGGCAGGTCTGTGGGATGGTGAGGGCTGTGCTGGCTG...   \n",
       "17  XM_032758339  ATGGCAGAAGGCAAAGTAGGAACAGGCACGCCACATGGCAAGAGAG...   \n",
       "62     NC_073231  GGCCACACTGGGCAGGTCTGTGGGATGGTGAGGGCTGTGCTGGCTG...   \n",
       "..           ...                                                ...   \n",
       "41  XM_057302845  ATGCCAGCCCACCTCGCAGAGGCCAGCCCCGACTCCAGCCACCCCA...   \n",
       "2      NC_080785  ATGCCTGCCAACTGGACAGAGGGAAGCACCACTTCCAACCAGACCA...   \n",
       "34     NC_080070  ATGCCAGCCAACTTCACAGAGGGCAGCTTTCATGCCAACCAGACTG...   \n",
       "32  XM_057550284  ATGACAGCCAACCTCACAGAAGATGCCTCCACTTCCAATATAACGT...   \n",
       "66  XM_055293447  ATGCCGGACAACCTCACCGAGGGCAGCCCCGAGGCCAACGGGACCG...   \n",
       "\n",
       "    PyAlign Alignment Score  E Value  Percentage Coverage  \\\n",
       "0                    1266.0      0.0           100.000000   \n",
       "31                   1266.0      0.0           100.000000   \n",
       "63                   1266.0      0.0           100.000000   \n",
       "17                   1266.0      0.0           100.000000   \n",
       "62                   1264.0      0.0            99.842022   \n",
       "..                      ...      ...                  ...   \n",
       "41                    823.0      0.0            65.007899   \n",
       "2                     820.0      0.0            64.770932   \n",
       "34                    817.0      0.0            64.533965   \n",
       "32                    800.0      0.0            63.191153   \n",
       "66                    791.0      0.0            62.480253   \n",
       "\n",
       "                                          Description  \n",
       "0   Synthetic construct Homo sapiens clone CCSBHm_...  \n",
       "31  PREDICTED: Monodelphis domestica neuropeptide ...  \n",
       "63  PREDICTED: Mus musculus neuropeptide S recepto...  \n",
       "17  Homo sapiens neuropeptide S receptor 1 (NPSR1)...  \n",
       "62  PREDICTED: Mus musculus neuropeptide S recepto...  \n",
       "..                                                ...  \n",
       "41  PREDICTED: Nyctereutes procyonoides neuropepti...  \n",
       "2   PREDICTED: Ochotona princeps neuropeptide S re...  \n",
       "34  PREDICTED: Psammomys obesus neuropeptide S rec...  \n",
       "32  PREDICTED: Sorex cinereus neuropeptide S recep...  \n",
       "66  PREDICTED: Pteronotus parnellii mesoamericanus...  \n",
       "\n",
       "[70 rows x 6 columns]"
      ]
     },
     "execution_count": 17,
     "metadata": {},
     "output_type": "execute_result"
    }
   ],
   "source": [
    "nucl_df.sort_values(by=['Percentage Coverage'],  inplace = True, ascending=False)\n",
    "nucl_df = nucl_df[['ID Name','Sequence', 'PyAlign Alignment Score','E Value', 'Percentage Coverage', 'Description']]\n",
    "nucl_df"
   ]
  },
  {
   "cell_type": "code",
   "execution_count": 18,
   "metadata": {},
   "outputs": [
    {
     "data": {
      "text/plain": [
       "ID Name                     object\n",
       "Sequence                    object\n",
       "PyAlign Alignment Score    float64\n",
       "E Value                    float64\n",
       "Percentage Coverage        float64\n",
       "Description                 object\n",
       "dtype: object"
      ]
     },
     "execution_count": 18,
     "metadata": {},
     "output_type": "execute_result"
    }
   ],
   "source": [
    "nucl_df.dtypes"
   ]
  },
  {
   "cell_type": "markdown",
   "metadata": {},
   "source": [
    "Though it is very minor compared to the overall wall time, reducing the number of progress bars displayed can shave off a small amount of execution time. The time for the pandarallel parallel_apply for the respective applications is displayed in the pandas dataframe below.  "
   ]
  },
  {
   "cell_type": "code",
   "execution_count": 19,
   "metadata": {},
   "outputs": [
    {
     "data": {
      "text/html": [
       "<div>\n",
       "<style scoped>\n",
       "    .dataframe tbody tr th:only-of-type {\n",
       "        vertical-align: middle;\n",
       "    }\n",
       "\n",
       "    .dataframe tbody tr th {\n",
       "        vertical-align: top;\n",
       "    }\n",
       "\n",
       "    .dataframe thead th {\n",
       "        text-align: right;\n",
       "    }\n",
       "</style>\n",
       "<table border=\"1\" class=\"dataframe\">\n",
       "  <thead>\n",
       "    <tr style=\"text-align: right;\">\n",
       "      <th></th>\n",
       "      <th>Pandarallel Function</th>\n",
       "      <th>Number of Bars</th>\n",
       "      <th>Time</th>\n",
       "    </tr>\n",
       "  </thead>\n",
       "  <tbody>\n",
       "    <tr>\n",
       "      <th>0</th>\n",
       "      <td>PyAlign Alignment Score</td>\n",
       "      <td>128</td>\n",
       "      <td>16.941219</td>\n",
       "    </tr>\n",
       "    <tr>\n",
       "      <th>1</th>\n",
       "      <td>E Value</td>\n",
       "      <td>10</td>\n",
       "      <td>9.061706</td>\n",
       "    </tr>\n",
       "    <tr>\n",
       "      <th>2</th>\n",
       "      <td>Percentage Coverage</td>\n",
       "      <td>1</td>\n",
       "      <td>7.536713</td>\n",
       "    </tr>\n",
       "    <tr>\n",
       "      <th>3</th>\n",
       "      <td>Total Time for Dragon Multiprocessing Pandaral...</td>\n",
       "      <td>N/A</td>\n",
       "      <td>33.539638</td>\n",
       "    </tr>\n",
       "  </tbody>\n",
       "</table>\n",
       "</div>"
      ],
      "text/plain": [
       "                                Pandarallel Function Number of Bars       Time\n",
       "0                            PyAlign Alignment Score            128  16.941219\n",
       "1                                            E Value             10   9.061706\n",
       "2                                Percentage Coverage              1   7.536713\n",
       "3  Total Time for Dragon Multiprocessing Pandaral...            N/A  33.539638"
      ]
     },
     "execution_count": 19,
     "metadata": {},
     "output_type": "execute_result"
    }
   ],
   "source": [
    "time_df = pd.DataFrame(list(zip(functions, bar_num, tot_time)), columns=['Pandarallel Function','Number of Bars', 'Time'])\n",
    "time_sum = time_df['Time'].sum()\n",
    "time_df.loc[len(time_df.index)] = ['Total Time for Dragon Multiprocessing Pandarallel Processes (Nucleotides)', \"N/A\", time_sum]\n",
    "time_df"
   ]
  },
  {
   "cell_type": "markdown",
   "metadata": {},
   "source": [
    "The correlation for the variables in the nucleotide pandas dataframe are plotted, and the variables for k-means clustering are identified."
   ]
  },
  {
   "cell_type": "code",
   "execution_count": 20,
   "metadata": {},
   "outputs": [
    {
     "name": "stderr",
     "output_type": "stream",
     "text": [
      "/cray/css/users/ghorakav/dragon_31032022/hpc-pe-dragon-dragon/_env/lib/python3.9/site-packages/seaborn/_oldcore.py:1498: FutureWarning: is_categorical_dtype is deprecated and will be removed in a future version. Use isinstance(dtype, CategoricalDtype) instead\n",
      "  if pd.api.types.is_categorical_dtype(vector):\n",
      "/cray/css/users/ghorakav/dragon_31032022/hpc-pe-dragon-dragon/_env/lib/python3.9/site-packages/seaborn/_oldcore.py:1498: FutureWarning: is_categorical_dtype is deprecated and will be removed in a future version. Use isinstance(dtype, CategoricalDtype) instead\n",
      "  if pd.api.types.is_categorical_dtype(vector):\n",
      "/cray/css/users/ghorakav/dragon_31032022/hpc-pe-dragon-dragon/_env/lib/python3.9/site-packages/seaborn/_oldcore.py:1498: FutureWarning: is_categorical_dtype is deprecated and will be removed in a future version. Use isinstance(dtype, CategoricalDtype) instead\n",
      "  if pd.api.types.is_categorical_dtype(vector):\n",
      "/cray/css/users/ghorakav/dragon_31032022/hpc-pe-dragon-dragon/_env/lib/python3.9/site-packages/seaborn/_oldcore.py:1498: FutureWarning: is_categorical_dtype is deprecated and will be removed in a future version. Use isinstance(dtype, CategoricalDtype) instead\n",
      "  if pd.api.types.is_categorical_dtype(vector):\n",
      "/cray/css/users/ghorakav/dragon_31032022/hpc-pe-dragon-dragon/_env/lib/python3.9/site-packages/seaborn/_oldcore.py:1498: FutureWarning: is_categorical_dtype is deprecated and will be removed in a future version. Use isinstance(dtype, CategoricalDtype) instead\n",
      "  if pd.api.types.is_categorical_dtype(vector):\n",
      "/cray/css/users/ghorakav/dragon_31032022/hpc-pe-dragon-dragon/_env/lib/python3.9/site-packages/seaborn/_oldcore.py:1498: FutureWarning: is_categorical_dtype is deprecated and will be removed in a future version. Use isinstance(dtype, CategoricalDtype) instead\n",
      "  if pd.api.types.is_categorical_dtype(vector):\n",
      "/cray/css/users/ghorakav/dragon_31032022/hpc-pe-dragon-dragon/_env/lib/python3.9/site-packages/seaborn/_oldcore.py:1498: FutureWarning: is_categorical_dtype is deprecated and will be removed in a future version. Use isinstance(dtype, CategoricalDtype) instead\n",
      "  if pd.api.types.is_categorical_dtype(vector):\n",
      "/cray/css/users/ghorakav/dragon_31032022/hpc-pe-dragon-dragon/_env/lib/python3.9/site-packages/seaborn/_oldcore.py:1498: FutureWarning: is_categorical_dtype is deprecated and will be removed in a future version. Use isinstance(dtype, CategoricalDtype) instead\n",
      "  if pd.api.types.is_categorical_dtype(vector):\n",
      "/cray/css/users/ghorakav/dragon_31032022/hpc-pe-dragon-dragon/_env/lib/python3.9/site-packages/seaborn/_oldcore.py:1498: FutureWarning: is_categorical_dtype is deprecated and will be removed in a future version. Use isinstance(dtype, CategoricalDtype) instead\n",
      "  if pd.api.types.is_categorical_dtype(vector):\n",
      "/cray/css/users/ghorakav/dragon_31032022/hpc-pe-dragon-dragon/_env/lib/python3.9/site-packages/seaborn/_oldcore.py:1498: FutureWarning: is_categorical_dtype is deprecated and will be removed in a future version. Use isinstance(dtype, CategoricalDtype) instead\n",
      "  if pd.api.types.is_categorical_dtype(vector):\n",
      "/cray/css/users/ghorakav/dragon_31032022/hpc-pe-dragon-dragon/_env/lib/python3.9/site-packages/seaborn/_oldcore.py:1498: FutureWarning: is_categorical_dtype is deprecated and will be removed in a future version. Use isinstance(dtype, CategoricalDtype) instead\n",
      "  if pd.api.types.is_categorical_dtype(vector):\n",
      "/cray/css/users/ghorakav/dragon_31032022/hpc-pe-dragon-dragon/_env/lib/python3.9/site-packages/seaborn/_oldcore.py:1498: FutureWarning: is_categorical_dtype is deprecated and will be removed in a future version. Use isinstance(dtype, CategoricalDtype) instead\n",
      "  if pd.api.types.is_categorical_dtype(vector):\n",
      "/cray/css/users/ghorakav/dragon_31032022/hpc-pe-dragon-dragon/_env/lib/python3.9/site-packages/seaborn/_oldcore.py:1498: FutureWarning: is_categorical_dtype is deprecated and will be removed in a future version. Use isinstance(dtype, CategoricalDtype) instead\n",
      "  if pd.api.types.is_categorical_dtype(vector):\n",
      "/cray/css/users/ghorakav/dragon_31032022/hpc-pe-dragon-dragon/_env/lib/python3.9/site-packages/seaborn/_oldcore.py:1498: FutureWarning: is_categorical_dtype is deprecated and will be removed in a future version. Use isinstance(dtype, CategoricalDtype) instead\n",
      "  if pd.api.types.is_categorical_dtype(vector):\n",
      "/cray/css/users/ghorakav/dragon_31032022/hpc-pe-dragon-dragon/_env/lib/python3.9/site-packages/seaborn/_oldcore.py:1498: FutureWarning: is_categorical_dtype is deprecated and will be removed in a future version. Use isinstance(dtype, CategoricalDtype) instead\n",
      "  if pd.api.types.is_categorical_dtype(vector):\n",
      "/cray/css/users/ghorakav/dragon_31032022/hpc-pe-dragon-dragon/_env/lib/python3.9/site-packages/seaborn/_oldcore.py:1498: FutureWarning: is_categorical_dtype is deprecated and will be removed in a future version. Use isinstance(dtype, CategoricalDtype) instead\n",
      "  if pd.api.types.is_categorical_dtype(vector):\n",
      "/cray/css/users/ghorakav/dragon_31032022/hpc-pe-dragon-dragon/_env/lib/python3.9/site-packages/seaborn/_oldcore.py:1498: FutureWarning: is_categorical_dtype is deprecated and will be removed in a future version. Use isinstance(dtype, CategoricalDtype) instead\n",
      "  if pd.api.types.is_categorical_dtype(vector):\n",
      "/cray/css/users/ghorakav/dragon_31032022/hpc-pe-dragon-dragon/_env/lib/python3.9/site-packages/seaborn/_oldcore.py:1498: FutureWarning: is_categorical_dtype is deprecated and will be removed in a future version. Use isinstance(dtype, CategoricalDtype) instead\n",
      "  if pd.api.types.is_categorical_dtype(vector):\n",
      "/cray/css/users/ghorakav/dragon_31032022/hpc-pe-dragon-dragon/_env/lib/python3.9/site-packages/seaborn/_oldcore.py:1498: FutureWarning: is_categorical_dtype is deprecated and will be removed in a future version. Use isinstance(dtype, CategoricalDtype) instead\n",
      "  if pd.api.types.is_categorical_dtype(vector):\n",
      "/cray/css/users/ghorakav/dragon_31032022/hpc-pe-dragon-dragon/_env/lib/python3.9/site-packages/seaborn/_oldcore.py:1498: FutureWarning: is_categorical_dtype is deprecated and will be removed in a future version. Use isinstance(dtype, CategoricalDtype) instead\n",
      "  if pd.api.types.is_categorical_dtype(vector):\n",
      "/cray/css/users/ghorakav/dragon_31032022/hpc-pe-dragon-dragon/_env/lib/python3.9/site-packages/seaborn/_oldcore.py:1498: FutureWarning: is_categorical_dtype is deprecated and will be removed in a future version. Use isinstance(dtype, CategoricalDtype) instead\n",
      "  if pd.api.types.is_categorical_dtype(vector):\n",
      "/cray/css/users/ghorakav/dragon_31032022/hpc-pe-dragon-dragon/_env/lib/python3.9/site-packages/seaborn/_oldcore.py:1498: FutureWarning: is_categorical_dtype is deprecated and will be removed in a future version. Use isinstance(dtype, CategoricalDtype) instead\n",
      "  if pd.api.types.is_categorical_dtype(vector):\n",
      "/cray/css/users/ghorakav/dragon_31032022/hpc-pe-dragon-dragon/_env/lib/python3.9/site-packages/seaborn/_oldcore.py:1498: FutureWarning: is_categorical_dtype is deprecated and will be removed in a future version. Use isinstance(dtype, CategoricalDtype) instead\n",
      "  if pd.api.types.is_categorical_dtype(vector):\n",
      "/cray/css/users/ghorakav/dragon_31032022/hpc-pe-dragon-dragon/_env/lib/python3.9/site-packages/seaborn/_oldcore.py:1498: FutureWarning: is_categorical_dtype is deprecated and will be removed in a future version. Use isinstance(dtype, CategoricalDtype) instead\n",
      "  if pd.api.types.is_categorical_dtype(vector):\n"
     ]
    },
    {
     "data": {
      "image/png": "[encoded data removed]",
      "text/plain": [
       "<Figure size 750x750 with 9 Axes>"
      ]
     },
     "metadata": {},
     "output_type": "display_data"
    }
   ],
   "source": [
    "sns.PairGrid(nucl_df).map(sns.scatterplot);"
   ]
  },
  {
   "cell_type": "markdown",
   "metadata": {},
   "source": [
    "The x-axis is the PyAlign Alignment Score, and the y-axis is percentage coverage. The scatterplot function from the seaborn library is used for k-means clustering using the variables identified."
   ]
  },
  {
   "cell_type": "code",
   "execution_count": 21,
   "metadata": {},
   "outputs": [
    {
     "name": "stderr",
     "output_type": "stream",
     "text": [
      "/cray/css/users/ghorakav/dragon_31032022/hpc-pe-dragon-dragon/_env/lib/python3.9/site-packages/seaborn/_oldcore.py:1498: FutureWarning: is_categorical_dtype is deprecated and will be removed in a future version. Use isinstance(dtype, CategoricalDtype) instead\n",
      "  if pd.api.types.is_categorical_dtype(vector):\n",
      "/cray/css/users/ghorakav/dragon_31032022/hpc-pe-dragon-dragon/_env/lib/python3.9/site-packages/seaborn/_oldcore.py:1498: FutureWarning: is_categorical_dtype is deprecated and will be removed in a future version. Use isinstance(dtype, CategoricalDtype) instead\n",
      "  if pd.api.types.is_categorical_dtype(vector):\n",
      "/cray/css/users/ghorakav/dragon_31032022/hpc-pe-dragon-dragon/_env/lib/python3.9/site-packages/seaborn/_oldcore.py:1498: FutureWarning: is_categorical_dtype is deprecated and will be removed in a future version. Use isinstance(dtype, CategoricalDtype) instead\n",
      "  if pd.api.types.is_categorical_dtype(vector):\n"
     ]
    },
    {
     "data": {
      "text/plain": [
       "<Axes: xlabel='PyAlign Alignment Score', ylabel='Percentage Coverage'>"
      ]
     },
     "execution_count": 21,
     "metadata": {},
     "output_type": "execute_result"
    },
    {
     "data": {
      "image/png": "[encoded data removed]",
      "text/plain": [
       "<Figure size 640x480 with 1 Axes>"
      ]
     },
     "metadata": {},
     "output_type": "display_data"
    }
   ],
   "source": [
    "sns.scatterplot(data = nucl_df[['PyAlign Alignment Score', 'E Value', 'Percentage Coverage']], x = 'PyAlign Alignment Score', y = 'Percentage Coverage', hue = 'E Value')"
   ]
  },
  {
   "cell_type": "markdown",
   "metadata": {},
   "source": [
    "The cluster number is determined from the elbow method and the default arguments for the k-means algorithm."
   ]
  },
  {
   "cell_type": "code",
   "execution_count": 22,
   "metadata": {},
   "outputs": [
    {
     "name": "stderr",
     "output_type": "stream",
     "text": [
      "/cray/css/users/ghorakav/dragon_31032022/hpc-pe-dragon-dragon/_env/lib/python3.9/site-packages/sklearn/cluster/_kmeans.py:1416: FutureWarning: The default value of `n_init` will change from 10 to 'auto' in 1.4. Set the value of `n_init` explicitly to suppress the warning\n",
      "  super()._check_params_vs_input(X, default_n_init=10)\n",
      "/cray/css/users/ghorakav/dragon_31032022/hpc-pe-dragon-dragon/_env/lib/python3.9/site-packages/sklearn/cluster/_kmeans.py:1416: FutureWarning: The default value of `n_init` will change from 10 to 'auto' in 1.4. Set the value of `n_init` explicitly to suppress the warning\n",
      "  super()._check_params_vs_input(X, default_n_init=10)\n",
      "/cray/css/users/ghorakav/dragon_31032022/hpc-pe-dragon-dragon/_env/lib/python3.9/site-packages/sklearn/cluster/_kmeans.py:1416: FutureWarning: The default value of `n_init` will change from 10 to 'auto' in 1.4. Set the value of `n_init` explicitly to suppress the warning\n",
      "  super()._check_params_vs_input(X, default_n_init=10)\n",
      "/cray/css/users/ghorakav/dragon_31032022/hpc-pe-dragon-dragon/_env/lib/python3.9/site-packages/sklearn/cluster/_kmeans.py:1416: FutureWarning: The default value of `n_init` will change from 10 to 'auto' in 1.4. Set the value of `n_init` explicitly to suppress the warning\n",
      "  super()._check_params_vs_input(X, default_n_init=10)\n",
      "/cray/css/users/ghorakav/dragon_31032022/hpc-pe-dragon-dragon/_env/lib/python3.9/site-packages/sklearn/cluster/_kmeans.py:1416: FutureWarning: The default value of `n_init` will change from 10 to 'auto' in 1.4. Set the value of `n_init` explicitly to suppress the warning\n",
      "  super()._check_params_vs_input(X, default_n_init=10)\n",
      "/cray/css/users/ghorakav/dragon_31032022/hpc-pe-dragon-dragon/_env/lib/python3.9/site-packages/sklearn/cluster/_kmeans.py:1416: FutureWarning: The default value of `n_init` will change from 10 to 'auto' in 1.4. Set the value of `n_init` explicitly to suppress the warning\n",
      "  super()._check_params_vs_input(X, default_n_init=10)\n",
      "/cray/css/users/ghorakav/dragon_31032022/hpc-pe-dragon-dragon/_env/lib/python3.9/site-packages/sklearn/cluster/_kmeans.py:1416: FutureWarning: The default value of `n_init` will change from 10 to 'auto' in 1.4. Set the value of `n_init` explicitly to suppress the warning\n",
      "  super()._check_params_vs_input(X, default_n_init=10)\n",
      "/cray/css/users/ghorakav/dragon_31032022/hpc-pe-dragon-dragon/_env/lib/python3.9/site-packages/sklearn/cluster/_kmeans.py:1416: FutureWarning: The default value of `n_init` will change from 10 to 'auto' in 1.4. Set the value of `n_init` explicitly to suppress the warning\n",
      "  super()._check_params_vs_input(X, default_n_init=10)\n",
      "/cray/css/users/ghorakav/dragon_31032022/hpc-pe-dragon-dragon/_env/lib/python3.9/site-packages/sklearn/cluster/_kmeans.py:1416: FutureWarning: The default value of `n_init` will change from 10 to 'auto' in 1.4. Set the value of `n_init` explicitly to suppress the warning\n",
      "  super()._check_params_vs_input(X, default_n_init=10)\n"
     ]
    },
    {
     "data": {
      "image/png": "[encoded data removed]",
      "text/plain": [
       "<Figure size 640x480 with 1 Axes>"
      ]
     },
     "metadata": {},
     "output_type": "display_data"
    }
   ],
   "source": [
    "X = np.array(nucl_df.loc[:,['PyAlign Alignment Score', 'Percentage Coverage']])\n",
    "\n",
    "euclidean = []\n",
    "for i in range(1, 10):\n",
    "    model = KMeans(n_clusters = i)\n",
    "    model.fit(X)                              \n",
    "    euclidean.append(model.inertia_)\n",
    "\n",
    "plt.plot(range(1, 10), euclidean)\n",
    "plt.xlabel('Cluster number')\n",
    "plt.ylabel('Euclidean Sum of Squares')\n",
    "plt.show()"
   ]
  },
  {
   "cell_type": "markdown",
   "metadata": {},
   "source": [
    "The k-means algorithm is plotted, and the default arguments for the k-means algorithm is used. "
   ]
  },
  {
   "cell_type": "code",
   "execution_count": 23,
   "metadata": {},
   "outputs": [
    {
     "name": "stderr",
     "output_type": "stream",
     "text": [
      "/cray/css/users/ghorakav/dragon_31032022/hpc-pe-dragon-dragon/_env/lib/python3.9/site-packages/sklearn/cluster/_kmeans.py:1416: FutureWarning: The default value of `n_init` will change from 10 to 'auto' in 1.4. Set the value of `n_init` explicitly to suppress the warning\n",
      "  super()._check_params_vs_input(X, default_n_init=10)\n"
     ]
    },
    {
     "data": {
      "text/plain": [
       "<matplotlib.collections.PathCollection at 0x7fe90bfbbac0>"
      ]
     },
     "execution_count": 23,
     "metadata": {},
     "output_type": "execute_result"
    },
    {
     "data": {
      "image/png": "[encoded data removed]",
      "text/plain": [
       "<Figure size 640x480 with 1 Axes>"
      ]
     },
     "metadata": {},
     "output_type": "display_data"
    }
   ],
   "source": [
    "model = KMeans(n_clusters=3).fit(X)\n",
    "plt.scatter(X[:,0], X[:,1], c=model.labels_.astype(float))"
   ]
  }
 ],
 "metadata": {
  "kernelspec": {
   "display_name": "Python 3 (ipykernel)",
   "language": "python",
   "name": "python3"
  },
  "language_info": {
   "codemirror_mode": {
    "name": "ipython",
    "version": 3
   },
   "file_extension": ".py",
   "mimetype": "text/x-python",
   "name": "python",
   "nbconvert_exporter": "python",
   "pygments_lexer": "ipython3",
   "version": "3.9.1+"
  }
 },
 "nbformat": 4,
 "nbformat_minor": 4
}
